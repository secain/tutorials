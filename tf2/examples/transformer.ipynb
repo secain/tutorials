{
 "cells": [
  {
   "cell_type": "markdown",
   "metadata": {
    "id": "s_qNSzzyaCbD"
   },
   "source": [
    "##### Copyright 2019 The TensorFlow Authors."
   ]
  },
  {
   "cell_type": "code",
   "execution_count": 1,
   "metadata": {
    "cellView": "form",
    "execution": {
     "iopub.execute_input": "2021-01-08T06:07:53.851194Z",
     "iopub.status.busy": "2021-01-08T06:07:53.850578Z",
     "iopub.status.idle": "2021-01-08T06:07:53.852277Z",
     "shell.execute_reply": "2021-01-08T06:07:53.852629Z"
    },
    "id": "jmjh290raIky"
   },
   "outputs": [],
   "source": [
    "#@title Licensed under the Apache License, Version 2.0 (the \"License\");\n",
    "# you may not use this file except in compliance with the License.\n",
    "# You may obtain a copy of the License at\n",
    "#\n",
    "# https://www.apache.org/licenses/LICENSE-2.0\n",
    "#\n",
    "# Unless required by applicable law or agreed to in writing, software\n",
    "# distributed under the License is distributed on an \"AS IS\" BASIS,\n",
    "# WITHOUT WARRANTIES OR CONDITIONS OF ANY KIND, either express or implied.\n",
    "# See the License for the specific language governing permissions and\n",
    "# limitations under the License."
   ]
  },
  {
   "cell_type": "markdown",
   "metadata": {
    "id": "J0Qjg6vuaHNt"
   },
   "source": [
    "# Transformer model for language understanding"
   ]
  },
  {
   "cell_type": "markdown",
   "metadata": {
    "id": "AOpGoE2T-YXS"
   },
   "source": [
    "<table class=\"tfo-notebook-buttons\" align=\"left\">\n",
    "  <td>\n",
    "    <a target=\"_blank\" href=\"https://www.tensorflow.org/tutorials/text/transformer\">\n",
    "    <img src=\"https://www.tensorflow.org/images/tf_logo_32px.png\" />\n",
    "    View on TensorFlow.org</a>\n",
    "  </td>\n",
    "  <td>\n",
    "    <a target=\"_blank\" href=\"https://colab.research.google.com/github/tensorflow/docs/blob/master/site/en/tutorials/text/transformer.ipynb\">\n",
    "    <img src=\"https://www.tensorflow.org/images/colab_logo_32px.png\" />\n",
    "    Run in Google Colab</a>\n",
    "  </td>\n",
    "  <td>\n",
    "    <a target=\"_blank\" href=\"https://github.com/tensorflow/docs/blob/master/site/en/tutorials/text/transformer.ipynb\">\n",
    "    <img src=\"https://www.tensorflow.org/images/GitHub-Mark-32px.png\" />\n",
    "    View source on GitHub</a>\n",
    "  </td>\n",
    "  <td>\n",
    "    <a href=\"https://storage.googleapis.com/tensorflow_docs/docs/site/en/tutorials/text/transformer.ipynb\"><img src=\"https://www.tensorflow.org/images/download_logo_32px.png\" />Download notebook</a>\n",
    "  </td>\n",
    "</table>"
   ]
  },
  {
   "cell_type": "markdown",
   "metadata": {
    "id": "M-f8TnGpE_ex"
   },
   "source": [
    "This tutorial trains a <a href=\"https://arxiv.org/abs/1706.03762\" class=\"external\">Transformer model</a> to translate Portuguese to English. This is an advanced example that assumes knowledge of [text generation](text_generation.ipynb) and [attention](nmt_with_attention.ipynb).\n",
    "\n",
    "The core idea behind the Transformer model is *self-attention*—the ability to attend to different positions of the input sequence to compute a representation of that sequence. Transformer creates stacks of self-attention layers and is explained below in the sections *Scaled dot product attention* and *Multi-head attention*.\n",
    "\n",
    "A transformer model handles variable-sized input using stacks of self-attention layers instead of [RNNs](text_classification_rnn.ipynb) or [CNNs](../images/intro_to_cnns.ipynb). This general architecture has a number of advantages:\n",
    "\n",
    "* It make no assumptions about the temporal/spatial relationships across the data. This is ideal for processing a set of objects (for example, [StarCraft units](https://deepmind.com/blog/alphastar-mastering-real-time-strategy-game-starcraft-ii/#block-8)).\n",
    "* Layer outputs can be calculated in parallel, instead of a series like an RNN.\n",
    "* Distant items can affect each other's output without passing through many RNN-steps, or convolution layers (see [Scene Memory Transformer](https://arxiv.org/pdf/1903.03878.pdf) for example).\n",
    "* It can learn long-range dependencies. This is a challenge in many sequence tasks.\n",
    "\n",
    "The downsides of this architecture are:\n",
    "\n",
    "* For a time-series, the output for a time-step is calculated from the *entire history* instead of only the inputs and current hidden-state. This _may_ be less efficient.   \n",
    "* If the input *does* have a  temporal/spatial relationship, like text, some positional encoding must be added or the model will effectively see a bag of words. \n",
    "\n",
    "After training the model in this notebook, you will be able to input a Portuguese sentence and return the English translation.\n",
    "\n",
    "<img src=\"https://www.tensorflow.org/images/tutorials/transformer/attention_map_portuguese.png\" width=\"800\" alt=\"Attention heatmap\">"
   ]
  },
  {
   "cell_type": "code",
   "execution_count": 2,
   "metadata": {
    "execution": {
     "iopub.execute_input": "2021-01-08T06:07:53.862783Z",
     "iopub.status.busy": "2021-01-08T06:07:53.862213Z",
     "iopub.status.idle": "2021-01-08T06:07:56.854125Z",
     "shell.execute_reply": "2021-01-08T06:07:56.853566Z"
    },
    "id": "XFG0NDRu5mYQ"
   },
   "outputs": [
    {
     "name": "stdout",
     "output_type": "stream",
     "text": [
      "\u001b[33mWARNING: You are using pip version 20.3.1; however, version 20.3.3 is available.\n",
      "You should consider upgrading via the '/tmpfs/src/tf_docs_env/bin/python -m pip install --upgrade pip' command.\u001b[0m\n"
     ]
    }
   ],
   "source": [
    "# Pin matplotlib version to 3.2.2 since in the latest version\n",
    "# transformer.ipynb fails with the following error:\n",
    "# https://stackoverflow.com/questions/62953704/valueerror-the-number-of-fixedlocator-locations-5-usually-from-a-call-to-set\n",
    "!pip install -q matplotlib==3.2.2"
   ]
  },
  {
   "cell_type": "code",
   "execution_count": 3,
   "metadata": {
    "execution": {
     "iopub.execute_input": "2021-01-08T06:07:56.858561Z",
     "iopub.status.busy": "2021-01-08T06:07:56.857988Z",
     "iopub.status.idle": "2021-01-08T06:08:03.638618Z",
     "shell.execute_reply": "2021-01-08T06:08:03.638062Z"
    },
    "id": "JjJJyJTZYebt"
   },
   "outputs": [],
   "source": [
    "import tensorflow_datasets as tfds\n",
    "import tensorflow as tf\n",
    "\n",
    "import time\n",
    "import numpy as np\n",
    "import matplotlib.pyplot as plt"
   ]
  },
  {
   "cell_type": "markdown",
   "metadata": {
    "id": "fd1NWMxjfsDd"
   },
   "source": [
    "## Setup input pipeline"
   ]
  },
  {
   "cell_type": "markdown",
   "metadata": {
    "id": "t4_Qt8W1hJE_"
   },
   "source": [
    "Use [TFDS](https://www.tensorflow.org/datasets) to load the [Portugese-English translation dataset](https://github.com/neulab/word-embeddings-for-nmt) from the [TED Talks Open Translation Project](https://www.ted.com/participate/translate).\n",
    "\n",
    "This dataset contains approximately 50000 training examples, 1100 validation examples, and 2000 test examples."
   ]
  },
  {
   "cell_type": "code",
   "execution_count": 4,
   "metadata": {
    "execution": {
     "iopub.execute_input": "2021-01-08T06:08:03.646007Z",
     "iopub.status.busy": "2021-01-08T06:08:03.645416Z",
     "iopub.status.idle": "2021-01-08T06:08:37.353506Z",
     "shell.execute_reply": "2021-01-08T06:08:37.353904Z"
    },
    "id": "8q9t4FmN96eN"
   },
   "outputs": [
    {
     "name": "stdout",
     "output_type": "stream",
     "text": [
      "\u001b[1mDownloading and preparing dataset 124.94 MiB (download: 124.94 MiB, generated: Unknown size, total: 124.94 MiB) to /home/kbuilder/tensorflow_datasets/ted_hrlr_translate/pt_to_en/1.0.0...\u001b[0m\n",
      "\u001b[1mDataset ted_hrlr_translate downloaded and prepared to /home/kbuilder/tensorflow_datasets/ted_hrlr_translate/pt_to_en/1.0.0. Subsequent calls will reuse this data.\u001b[0m\n"
     ]
    }
   ],
   "source": [
    "examples, metadata = tfds.load('ted_hrlr_translate/pt_to_en', with_info=True,\n",
    "                               as_supervised=True)\n",
    "train_examples, val_examples = examples['train'], examples['validation']"
   ]
  },
  {
   "cell_type": "markdown",
   "metadata": {
    "id": "RCEKotqosGfq"
   },
   "source": [
    "Create a custom subwords tokenizer from the training dataset. "
   ]
  },
  {
   "cell_type": "code",
   "execution_count": 5,
   "metadata": {
    "execution": {
     "iopub.execute_input": "2021-01-08T06:08:37.359490Z",
     "iopub.status.busy": "2021-01-08T06:08:37.358327Z",
     "iopub.status.idle": "2021-01-08T06:10:22.452743Z",
     "shell.execute_reply": "2021-01-08T06:10:22.453203Z"
    },
    "id": "KVBg5Q8tBk5z"
   },
   "outputs": [],
   "source": [
    "tokenizer_en = tfds.deprecated.text.SubwordTextEncoder.build_from_corpus(\n",
    "    (en.numpy() for pt, en in train_examples), target_vocab_size=2**13)\n",
    "\n",
    "tokenizer_pt = tfds.deprecated.text.SubwordTextEncoder.build_from_corpus(\n",
    "    (pt.numpy() for pt, en in train_examples), target_vocab_size=2**13)"
   ]
  },
  {
   "cell_type": "code",
   "execution_count": 6,
   "metadata": {
    "execution": {
     "iopub.execute_input": "2021-01-08T06:10:22.458570Z",
     "iopub.status.busy": "2021-01-08T06:10:22.458002Z",
     "iopub.status.idle": "2021-01-08T06:10:22.460717Z",
     "shell.execute_reply": "2021-01-08T06:10:22.460128Z"
    },
    "id": "4DYWukNFkGQN"
   },
   "outputs": [
    {
     "name": "stdout",
     "output_type": "stream",
     "text": [
      "Tokenized string is [7915, 1248, 7946, 7194, 13, 2799, 7877]\n",
      "The original string: Transformer is awesome.\n"
     ]
    }
   ],
   "source": [
    "sample_string = 'Transformer is awesome.'\n",
    "\n",
    "tokenized_string = tokenizer_en.encode(sample_string)\n",
    "print ('Tokenized string is {}'.format(tokenized_string))\n",
    "\n",
    "original_string = tokenizer_en.decode(tokenized_string)\n",
    "print ('The original string: {}'.format(original_string))\n",
    "\n",
    "assert original_string == sample_string"
   ]
  },
  {
   "cell_type": "markdown",
   "metadata": {
    "id": "o9KJWJjrsZ4Y"
   },
   "source": [
    "The tokenizer encodes the string by breaking it into subwords if the word is not in its dictionary."
   ]
  },
  {
   "cell_type": "code",
   "execution_count": 7,
   "metadata": {
    "execution": {
     "iopub.execute_input": "2021-01-08T06:10:22.464544Z",
     "iopub.status.busy": "2021-01-08T06:10:22.463999Z",
     "iopub.status.idle": "2021-01-08T06:10:22.467076Z",
     "shell.execute_reply": "2021-01-08T06:10:22.466638Z"
    },
    "id": "bf2ntBxjkqK6"
   },
   "outputs": [
    {
     "name": "stdout",
     "output_type": "stream",
     "text": [
      "7915 ----> T\n",
      "1248 ----> ran\n",
      "7946 ----> s\n",
      "7194 ----> former \n",
      "13 ----> is \n",
      "2799 ----> awesome\n",
      "7877 ----> .\n"
     ]
    }
   ],
   "source": [
    "for ts in tokenized_string:\n",
    "  print ('{} ----> {}'.format(ts, tokenizer_en.decode([ts])))"
   ]
  },
  {
   "cell_type": "code",
   "execution_count": 8,
   "metadata": {
    "execution": {
     "iopub.execute_input": "2021-01-08T06:10:22.470278Z",
     "iopub.status.busy": "2021-01-08T06:10:22.469730Z",
     "iopub.status.idle": "2021-01-08T06:10:22.471688Z",
     "shell.execute_reply": "2021-01-08T06:10:22.471282Z"
    },
    "id": "bcRp7VcQ5m6g"
   },
   "outputs": [],
   "source": [
    "BUFFER_SIZE = 20000\n",
    "BATCH_SIZE = 64"
   ]
  },
  {
   "cell_type": "markdown",
   "metadata": {
    "id": "kGi4PoVakxdc"
   },
   "source": [
    "Add a start and end token to the input and target. "
   ]
  },
  {
   "cell_type": "code",
   "execution_count": 9,
   "metadata": {
    "execution": {
     "iopub.execute_input": "2021-01-08T06:10:22.476000Z",
     "iopub.status.busy": "2021-01-08T06:10:22.475431Z",
     "iopub.status.idle": "2021-01-08T06:10:22.477641Z",
     "shell.execute_reply": "2021-01-08T06:10:22.477135Z"
    },
    "id": "UZwnPr4R055s"
   },
   "outputs": [],
   "source": [
    "def encode(lang1, lang2):\n",
    "  lang1 = [tokenizer_pt.vocab_size] + tokenizer_pt.encode(\n",
    "      lang1.numpy()) + [tokenizer_pt.vocab_size+1]\n",
    "\n",
    "  lang2 = [tokenizer_en.vocab_size] + tokenizer_en.encode(\n",
    "      lang2.numpy()) + [tokenizer_en.vocab_size+1]\n",
    "  \n",
    "  return lang1, lang2"
   ]
  },
  {
   "cell_type": "markdown",
   "metadata": {
    "id": "Tx1sFbR-9fRs"
   },
   "source": [
    "You want to use `Dataset.map` to apply this function to each element of the dataset.  `Dataset.map` runs in graph mode.\n",
    "\n",
    "* Graph tensors do not have a value. \n",
    "* In graph mode you can only use TensorFlow Ops and functions. \n",
    "\n",
    "So you can't `.map` this function directly: You need to wrap it in a `tf.py_function`. The `tf.py_function` will pass regular tensors (with a value and a `.numpy()` method to access it), to the wrapped python function."
   ]
  },
  {
   "cell_type": "code",
   "execution_count": 10,
   "metadata": {
    "execution": {
     "iopub.execute_input": "2021-01-08T06:10:22.482155Z",
     "iopub.status.busy": "2021-01-08T06:10:22.481581Z",
     "iopub.status.idle": "2021-01-08T06:10:22.483373Z",
     "shell.execute_reply": "2021-01-08T06:10:22.483811Z"
    },
    "id": "Mah1cS-P70Iz"
   },
   "outputs": [],
   "source": [
    "def tf_encode(pt, en):\n",
    "  result_pt, result_en = tf.py_function(encode, [pt, en], [tf.int64, tf.int64])\n",
    "  result_pt.set_shape([None])\n",
    "  result_en.set_shape([None])\n",
    "\n",
    "  return result_pt, result_en"
   ]
  },
  {
   "cell_type": "markdown",
   "metadata": {
    "id": "6JrGp5Gek6Ql"
   },
   "source": [
    "Note: To keep this example small and relatively fast, drop examples with a length of over 40 tokens."
   ]
  },
  {
   "cell_type": "code",
   "execution_count": 11,
   "metadata": {
    "execution": {
     "iopub.execute_input": "2021-01-08T06:10:22.487366Z",
     "iopub.status.busy": "2021-01-08T06:10:22.486821Z",
     "iopub.status.idle": "2021-01-08T06:10:22.488291Z",
     "shell.execute_reply": "2021-01-08T06:10:22.488736Z"
    },
    "id": "2QEgbjntk6Yf"
   },
   "outputs": [],
   "source": [
    "MAX_LENGTH = 40"
   ]
  },
  {
   "cell_type": "code",
   "execution_count": 12,
   "metadata": {
    "execution": {
     "iopub.execute_input": "2021-01-08T06:10:22.492540Z",
     "iopub.status.busy": "2021-01-08T06:10:22.491995Z",
     "iopub.status.idle": "2021-01-08T06:10:22.493939Z",
     "shell.execute_reply": "2021-01-08T06:10:22.493492Z"
    },
    "id": "c081xPGv1CPI"
   },
   "outputs": [],
   "source": [
    "def filter_max_length(x, y, max_length=MAX_LENGTH):\n",
    "  return tf.logical_and(tf.size(x) <= max_length,\n",
    "                        tf.size(y) <= max_length)"
   ]
  },
  {
   "cell_type": "code",
   "execution_count": 13,
   "metadata": {
    "execution": {
     "iopub.execute_input": "2021-01-08T06:10:22.498807Z",
     "iopub.status.busy": "2021-01-08T06:10:22.498086Z",
     "iopub.status.idle": "2021-01-08T06:10:22.609293Z",
     "shell.execute_reply": "2021-01-08T06:10:22.609663Z"
    },
    "id": "9mk9AZdZ5bcS"
   },
   "outputs": [],
   "source": [
    "train_dataset = train_examples.map(tf_encode)\n",
    "train_dataset = train_dataset.filter(filter_max_length)\n",
    "# cache the dataset to memory to get a speedup while reading from it.\n",
    "train_dataset = train_dataset.cache()\n",
    "train_dataset = train_dataset.shuffle(BUFFER_SIZE).padded_batch(BATCH_SIZE)\n",
    "train_dataset = train_dataset.prefetch(tf.data.AUTOTUNE)\n",
    "\n",
    "\n",
    "val_dataset = val_examples.map(tf_encode)\n",
    "val_dataset = val_dataset.filter(filter_max_length).padded_batch(BATCH_SIZE)"
   ]
  },
  {
   "cell_type": "code",
   "execution_count": 14,
   "metadata": {
    "execution": {
     "iopub.execute_input": "2021-01-08T06:10:22.613872Z",
     "iopub.status.busy": "2021-01-08T06:10:22.612937Z",
     "iopub.status.idle": "2021-01-08T06:10:22.694743Z",
     "shell.execute_reply": "2021-01-08T06:10:22.695129Z"
    },
    "id": "_fXvfYVfQr2n"
   },
   "outputs": [
    {
     "data": {
      "text/plain": [
       "(<tf.Tensor: shape=(64, 38), dtype=int64, numpy=\n",
       " array([[8214,  342, 3032, ...,    0,    0,    0],\n",
       "        [8214,   95,  198, ...,    0,    0,    0],\n",
       "        [8214, 4479, 7990, ...,    0,    0,    0],\n",
       "        ...,\n",
       "        [8214,  584,   12, ...,    0,    0,    0],\n",
       "        [8214,   59, 1548, ...,    0,    0,    0],\n",
       "        [8214,  118,   34, ...,    0,    0,    0]])>,\n",
       " <tf.Tensor: shape=(64, 40), dtype=int64, numpy=\n",
       " array([[8087,   98,   25, ...,    0,    0,    0],\n",
       "        [8087,   12,   20, ...,    0,    0,    0],\n",
       "        [8087,   12, 5453, ...,    0,    0,    0],\n",
       "        ...,\n",
       "        [8087,   18, 2059, ...,    0,    0,    0],\n",
       "        [8087,   16, 1436, ...,    0,    0,    0],\n",
       "        [8087,   15,   57, ...,    0,    0,    0]])>)"
      ]
     },
     "execution_count": 1,
     "metadata": {},
     "output_type": "execute_result"
    }
   ],
   "source": [
    "pt_batch, en_batch = next(iter(val_dataset))\n",
    "pt_batch, en_batch"
   ]
  },
  {
   "cell_type": "markdown",
   "metadata": {
    "id": "nBQuibYA4n0n"
   },
   "source": [
    "## Positional encoding\n",
    "\n",
    "Since this model doesn't contain any recurrence or convolution, positional encoding is added to give the model some information about the relative position of the words in the sentence. \n",
    "\n",
    "The positional encoding vector is added to the embedding vector. Embeddings represent a token in a d-dimensional space where tokens with similar meaning will be closer to each other. But the embeddings do not encode the relative position of words in a sentence. So after adding the positional encoding, words will be closer to each other based on the *similarity of their meaning and their position in the sentence*, in the d-dimensional space.\n",
    "\n",
    "See the notebook on [positional encoding](https://github.com/tensorflow/examples/blob/master/community/en/position_encoding.ipynb) to learn more about it. The formula for calculating the positional encoding is as follows:\n",
    "\n",
    "$$\\Large{PE_{(pos, 2i)} = sin(pos / 10000^{2i / d_{model}})} $$\n",
    "$$\\Large{PE_{(pos, 2i+1)} = cos(pos / 10000^{2i / d_{model}})} $$"
   ]
  },
  {
   "cell_type": "code",
   "execution_count": 15,
   "metadata": {
    "execution": {
     "iopub.execute_input": "2021-01-08T06:10:22.699271Z",
     "iopub.status.busy": "2021-01-08T06:10:22.698643Z",
     "iopub.status.idle": "2021-01-08T06:10:22.700475Z",
     "shell.execute_reply": "2021-01-08T06:10:22.700831Z"
    },
    "id": "WhIOZjMNKujn"
   },
   "outputs": [],
   "source": [
    "def get_angles(pos, i, d_model):\n",
    "  angle_rates = 1 / np.power(10000, (2 * (i//2)) / np.float32(d_model))\n",
    "  return pos * angle_rates"
   ]
  },
  {
   "cell_type": "code",
   "execution_count": 16,
   "metadata": {
    "execution": {
     "iopub.execute_input": "2021-01-08T06:10:22.706058Z",
     "iopub.status.busy": "2021-01-08T06:10:22.705481Z",
     "iopub.status.idle": "2021-01-08T06:10:22.707190Z",
     "shell.execute_reply": "2021-01-08T06:10:22.707530Z"
    },
    "id": "1Rz82wEs5biZ"
   },
   "outputs": [],
   "source": [
    "def positional_encoding(position, d_model):\n",
    "  angle_rads = get_angles(np.arange(position)[:, np.newaxis],\n",
    "                          np.arange(d_model)[np.newaxis, :],\n",
    "                          d_model)\n",
    "  \n",
    "  # apply sin to even indices in the array; 2i\n",
    "  angle_rads[:, 0::2] = np.sin(angle_rads[:, 0::2])\n",
    "  \n",
    "  # apply cos to odd indices in the array; 2i+1\n",
    "  angle_rads[:, 1::2] = np.cos(angle_rads[:, 1::2])\n",
    "    \n",
    "  pos_encoding = angle_rads[np.newaxis, ...]\n",
    "    \n",
    "  return tf.cast(pos_encoding, dtype=tf.float32)"
   ]
  },
  {
   "cell_type": "code",
   "execution_count": 17,
   "metadata": {
    "execution": {
     "iopub.execute_input": "2021-01-08T06:10:22.711937Z",
     "iopub.status.busy": "2021-01-08T06:10:22.711370Z",
     "iopub.status.idle": "2021-01-08T06:10:23.324074Z",
     "shell.execute_reply": "2021-01-08T06:10:23.323528Z"
    },
    "id": "1kLCla68EloE"
   },
   "outputs": [
    {
     "name": "stdout",
     "output_type": "stream",
     "text": [
      "(1, 50, 512)\n"
     ]
    },
    {
     "data": {
      "image/png": "[encoded data removed]",
      "text/plain": [
       "<Figure size 432x288 with 2 Axes>"
      ]
     },
     "metadata": {
      "needs_background": "light"
     },
     "output_type": "display_data"
    }
   ],
   "source": [
    "pos_encoding = positional_encoding(50, 512)\n",
    "print (pos_encoding.shape)\n",
    "\n",
    "plt.pcolormesh(pos_encoding[0], cmap='RdBu')\n",
    "plt.xlabel('Depth')\n",
    "plt.xlim((0, 512))\n",
    "plt.ylabel('Position')\n",
    "plt.colorbar()\n",
    "plt.show()"
   ]
  },
  {
   "cell_type": "markdown",
   "metadata": {
    "id": "a_b4ou4TYqUN"
   },
   "source": [
    "## Masking"
   ]
  },
  {
   "cell_type": "markdown",
   "metadata": {
    "id": "s42Uydjkv0hF"
   },
   "source": [
    "Mask all the pad tokens in the batch of sequence. It ensures that the model does not treat padding as the input. The mask indicates where pad value `0` is present: it outputs a `1` at those locations, and a `0` otherwise."
   ]
  },
  {
   "cell_type": "code",
   "execution_count": 18,
   "metadata": {
    "execution": {
     "iopub.execute_input": "2021-01-08T06:10:23.328406Z",
     "iopub.status.busy": "2021-01-08T06:10:23.327788Z",
     "iopub.status.idle": "2021-01-08T06:10:23.329999Z",
     "shell.execute_reply": "2021-01-08T06:10:23.329567Z"
    },
    "id": "U2i8-e1s8ti9"
   },
   "outputs": [],
   "source": [
    "def create_padding_mask(seq):\n",
    "  seq = tf.cast(tf.math.equal(seq, 0), tf.float32)\n",
    "  \n",
    "  # add extra dimensions to add the padding\n",
    "  # to the attention logits.\n",
    "  return seq[:, tf.newaxis, tf.newaxis, :]  # (batch_size, 1, 1, seq_len)"
   ]
  },
  {
   "cell_type": "code",
   "execution_count": 19,
   "metadata": {
    "execution": {
     "iopub.execute_input": "2021-01-08T06:10:23.333826Z",
     "iopub.status.busy": "2021-01-08T06:10:23.333253Z",
     "iopub.status.idle": "2021-01-08T06:10:23.337880Z",
     "shell.execute_reply": "2021-01-08T06:10:23.337473Z"
    },
    "id": "A7BYeBCNvi7n"
   },
   "outputs": [
    {
     "data": {
      "text/plain": [
       "<tf.Tensor: shape=(3, 1, 1, 5), dtype=float32, numpy=\n",
       "array([[[[0., 0., 1., 1., 0.]]],\n",
       "\n",
       "\n",
       "       [[[0., 0., 0., 1., 1.]]],\n",
       "\n",
       "\n",
       "       [[[1., 1., 1., 0., 0.]]]], dtype=float32)>"
      ]
     },
     "execution_count": 1,
     "metadata": {},
     "output_type": "execute_result"
    }
   ],
   "source": [
    "x = tf.constant([[7, 6, 0, 0, 1], [1, 2, 3, 0, 0], [0, 0, 0, 4, 5]])\n",
    "create_padding_mask(x)"
   ]
  },
  {
   "cell_type": "markdown",
   "metadata": {
    "id": "Z0hzukDBgVom"
   },
   "source": [
    "The look-ahead mask is used to mask the future tokens in a sequence. In other words, the mask indicates which entries should not be used.\n",
    "\n",
    "This means that to predict the third word, only the first and second word will be used. Similarly to predict the fourth word, only the first, second and the third word will be used and so on."
   ]
  },
  {
   "cell_type": "code",
   "execution_count": 20,
   "metadata": {
    "execution": {
     "iopub.execute_input": "2021-01-08T06:10:23.341621Z",
     "iopub.status.busy": "2021-01-08T06:10:23.341054Z",
     "iopub.status.idle": "2021-01-08T06:10:23.342738Z",
     "shell.execute_reply": "2021-01-08T06:10:23.343123Z"
    },
    "id": "dVxS8OPI9uI0"
   },
   "outputs": [],
   "source": [
    "def create_look_ahead_mask(size):\n",
    "  mask = 1 - tf.linalg.band_part(tf.ones((size, size)), -1, 0)\n",
    "  return mask  # (seq_len, seq_len)"
   ]
  },
  {
   "cell_type": "code",
   "execution_count": 21,
   "metadata": {
    "execution": {
     "iopub.execute_input": "2021-01-08T06:10:23.346712Z",
     "iopub.status.busy": "2021-01-08T06:10:23.346143Z",
     "iopub.status.idle": "2021-01-08T06:10:23.350451Z",
     "shell.execute_reply": "2021-01-08T06:10:23.350024Z"
    },
    "id": "yxKGuXxaBeeE"
   },
   "outputs": [
    {
     "data": {
      "text/plain": [
       "<tf.Tensor: shape=(3, 3), dtype=float32, numpy=\n",
       "array([[0., 1., 1.],\n",
       "       [0., 0., 1.],\n",
       "       [0., 0., 0.]], dtype=float32)>"
      ]
     },
     "execution_count": 1,
     "metadata": {},
     "output_type": "execute_result"
    }
   ],
   "source": [
    "x = tf.random.uniform((1, 3))\n",
    "temp = create_look_ahead_mask(x.shape[1])\n",
    "temp"
   ]
  },
  {
   "cell_type": "markdown",
   "metadata": {
    "id": "xluDl5cXYy4y"
   },
   "source": [
    "## Scaled dot product attention"
   ]
  },
  {
   "cell_type": "markdown",
   "metadata": {
    "id": "vsxEE_-Wa1gF"
   },
   "source": [
    "<img src=\"https://www.tensorflow.org/images/tutorials/transformer/scaled_attention.png\" width=\"500\" alt=\"scaled_dot_product_attention\">\n",
    "\n",
    "The attention function used by the transformer takes three inputs: Q (query), K (key), V (value). The equation used to calculate the attention weights is:\n",
    "\n",
    "$$\\Large{Attention(Q, K, V) = softmax_k(\\frac{QK^T}{\\sqrt{d_k}}) V} $$\n",
    "\n",
    "The dot-product attention is scaled by a factor of square root of the depth. This is done because for large values of depth, the dot product grows large in magnitude pushing the softmax function where it has small gradients resulting in a very hard softmax. \n",
    "\n",
    "For example, consider that `Q` and `K` have a mean of 0 and variance of 1. Their matrix multiplication will have a mean of 0 and variance of `dk`. Hence, *square root of `dk`* is used for scaling (and not any other number) because the matmul of `Q` and `K` should have a mean of 0 and variance of 1, and you get a gentler softmax.\n",
    "\n",
    "The mask is multiplied with -1e9 (close to negative infinity). This is done because the mask is summed with the scaled matrix multiplication of Q and K and is applied immediately before a softmax. The goal is to zero out these cells, and large negative inputs to softmax are near zero in the output."
   ]
  },
  {
   "cell_type": "code",
   "execution_count": 22,
   "metadata": {
    "execution": {
     "iopub.execute_input": "2021-01-08T06:10:23.356278Z",
     "iopub.status.busy": "2021-01-08T06:10:23.355713Z",
     "iopub.status.idle": "2021-01-08T06:10:23.357444Z",
     "shell.execute_reply": "2021-01-08T06:10:23.357784Z"
    },
    "id": "LazzUq3bJ5SH"
   },
   "outputs": [],
   "source": [
    "def scaled_dot_product_attention(q, k, v, mask):\n",
    "  \"\"\"Calculate the attention weights.\n",
    "  q, k, v must have matching leading dimensions.\n",
    "  k, v must have matching penultimate dimension, i.e.: seq_len_k = seq_len_v.\n",
    "  The mask has different shapes depending on its type(padding or look ahead) \n",
    "  but it must be broadcastable for addition.\n",
    "  \n",
    "  Args:\n",
    "    q: query shape == (..., seq_len_q, depth)\n",
    "    k: key shape == (..., seq_len_k, depth)\n",
    "    v: value shape == (..., seq_len_v, depth_v)\n",
    "    mask: Float tensor with shape broadcastable \n",
    "          to (..., seq_len_q, seq_len_k). Defaults to None.\n",
    "    \n",
    "  Returns:\n",
    "    output, attention_weights\n",
    "  \"\"\"\n",
    "\n",
    "  matmul_qk = tf.matmul(q, k, transpose_b=True)  # (..., seq_len_q, seq_len_k)\n",
    "  \n",
    "  # scale matmul_qk\n",
    "  dk = tf.cast(tf.shape(k)[-1], tf.float32)\n",
    "  scaled_attention_logits = matmul_qk / tf.math.sqrt(dk)\n",
    "\n",
    "  # add the mask to the scaled tensor.\n",
    "  if mask is not None:\n",
    "    scaled_attention_logits += (mask * -1e9)  \n",
    "\n",
    "  # softmax is normalized on the last axis (seq_len_k) so that the scores\n",
    "  # add up to 1.\n",
    "  attention_weights = tf.nn.softmax(scaled_attention_logits, axis=-1)  # (..., seq_len_q, seq_len_k)\n",
    "\n",
    "  output = tf.matmul(attention_weights, v)  # (..., seq_len_q, depth_v)\n",
    "\n",
    "  return output, attention_weights"
   ]
  },
  {
   "cell_type": "markdown",
   "metadata": {
    "id": "FiqETnhCkoXh"
   },
   "source": [
    "As the softmax normalization is done on K, its values decide the amount of importance given to Q.\n",
    "\n",
    "The output represents the multiplication of the attention weights and the V (value) vector. This ensures that the words you want to focus on are kept as-is and the irrelevant words are flushed out."
   ]
  },
  {
   "cell_type": "code",
   "execution_count": 23,
   "metadata": {
    "execution": {
     "iopub.execute_input": "2021-01-08T06:10:23.361702Z",
     "iopub.status.busy": "2021-01-08T06:10:23.361094Z",
     "iopub.status.idle": "2021-01-08T06:10:23.362841Z",
     "shell.execute_reply": "2021-01-08T06:10:23.363188Z"
    },
    "id": "n90YjClyInFy"
   },
   "outputs": [],
   "source": [
    "def print_out(q, k, v):\n",
    "  temp_out, temp_attn = scaled_dot_product_attention(\n",
    "      q, k, v, None)\n",
    "  print ('Attention weights are:')\n",
    "  print (temp_attn)\n",
    "  print ('Output is:')\n",
    "  print (temp_out)"
   ]
  },
  {
   "cell_type": "code",
   "execution_count": 24,
   "metadata": {
    "execution": {
     "iopub.execute_input": "2021-01-08T06:10:23.368287Z",
     "iopub.status.busy": "2021-01-08T06:10:23.367721Z",
     "iopub.status.idle": "2021-01-08T06:10:23.673538Z",
     "shell.execute_reply": "2021-01-08T06:10:23.673914Z"
    },
    "id": "yAzUAf2DPlNt"
   },
   "outputs": [
    {
     "name": "stdout",
     "output_type": "stream",
     "text": [
      "Attention weights are:\n",
      "tf.Tensor([[0. 1. 0. 0.]], shape=(1, 4), dtype=float32)\n",
      "Output is:\n",
      "tf.Tensor([[10.  0.]], shape=(1, 2), dtype=float32)\n"
     ]
    }
   ],
   "source": [
    "np.set_printoptions(suppress=True)\n",
    "\n",
    "temp_k = tf.constant([[10,0,0],\n",
    "                      [0,10,0],\n",
    "                      [0,0,10],\n",
    "                      [0,0,10]], dtype=tf.float32)  # (4, 3)\n",
    "\n",
    "temp_v = tf.constant([[   1,0],\n",
    "                      [  10,0],\n",
    "                      [ 100,5],\n",
    "                      [1000,6]], dtype=tf.float32)  # (4, 2)\n",
    "\n",
    "# This `query` aligns with the second `key`,\n",
    "# so the second `value` is returned.\n",
    "temp_q = tf.constant([[0, 10, 0]], dtype=tf.float32)  # (1, 3)\n",
    "print_out(temp_q, temp_k, temp_v)"
   ]
  },
  {
   "cell_type": "code",
   "execution_count": 25,
   "metadata": {
    "execution": {
     "iopub.execute_input": "2021-01-08T06:10:23.679682Z",
     "iopub.status.busy": "2021-01-08T06:10:23.679088Z",
     "iopub.status.idle": "2021-01-08T06:10:23.682102Z",
     "shell.execute_reply": "2021-01-08T06:10:23.681616Z"
    },
    "id": "zg6k-fGhgXra"
   },
   "outputs": [
    {
     "name": "stdout",
     "output_type": "stream",
     "text": [
      "Attention weights are:\n",
      "tf.Tensor([[0.  0.  0.5 0.5]], shape=(1, 4), dtype=float32)\n",
      "Output is:\n",
      "tf.Tensor([[550.    5.5]], shape=(1, 2), dtype=float32)\n"
     ]
    }
   ],
   "source": [
    "# This query aligns with a repeated key (third and fourth), \n",
    "# so all associated values get averaged.\n",
    "temp_q = tf.constant([[0, 0, 10]], dtype=tf.float32)  # (1, 3)\n",
    "print_out(temp_q, temp_k, temp_v)"
   ]
  },
  {
   "cell_type": "code",
   "execution_count": 26,
   "metadata": {
    "execution": {
     "iopub.execute_input": "2021-01-08T06:10:23.686000Z",
     "iopub.status.busy": "2021-01-08T06:10:23.685384Z",
     "iopub.status.idle": "2021-01-08T06:10:23.689440Z",
     "shell.execute_reply": "2021-01-08T06:10:23.689785Z"
    },
    "id": "UAq3YOzUgXhb"
   },
   "outputs": [
    {
     "name": "stdout",
     "output_type": "stream",
     "text": [
      "Attention weights are:\n",
      "tf.Tensor([[0.5 0.5 0.  0. ]], shape=(1, 4), dtype=float32)\n",
      "Output is:\n",
      "tf.Tensor([[5.5 0. ]], shape=(1, 2), dtype=float32)\n"
     ]
    }
   ],
   "source": [
    "# This query aligns equally with the first and second key, \n",
    "# so their values get averaged.\n",
    "temp_q = tf.constant([[10, 10, 0]], dtype=tf.float32)  # (1, 3)\n",
    "print_out(temp_q, temp_k, temp_v)"
   ]
  },
  {
   "cell_type": "markdown",
   "metadata": {
    "id": "aOz-4_XIhaTP"
   },
   "source": [
    "Pass all the queries together."
   ]
  },
  {
   "cell_type": "code",
   "execution_count": 27,
   "metadata": {
    "execution": {
     "iopub.execute_input": "2021-01-08T06:10:23.694048Z",
     "iopub.status.busy": "2021-01-08T06:10:23.693439Z",
     "iopub.status.idle": "2021-01-08T06:10:23.697405Z",
     "shell.execute_reply": "2021-01-08T06:10:23.697751Z"
    },
    "id": "6dlU8Tm-hYrF"
   },
   "outputs": [
    {
     "name": "stdout",
     "output_type": "stream",
     "text": [
      "Attention weights are:\n",
      "tf.Tensor(\n",
      "[[0.  0.  0.5 0.5]\n",
      " [0.  1.  0.  0. ]\n",
      " [0.5 0.5 0.  0. ]], shape=(3, 4), dtype=float32)\n",
      "Output is:\n",
      "tf.Tensor(\n",
      "[[550.    5.5]\n",
      " [ 10.    0. ]\n",
      " [  5.5   0. ]], shape=(3, 2), dtype=float32)\n"
     ]
    }
   ],
   "source": [
    "temp_q = tf.constant([[0, 0, 10], [0, 10, 0], [10, 10, 0]], dtype=tf.float32)  # (3, 3)\n",
    "print_out(temp_q, temp_k, temp_v)"
   ]
  },
  {
   "cell_type": "markdown",
   "metadata": {
    "id": "kmzGPEy64qmA"
   },
   "source": [
    "## Multi-head attention"
   ]
  },
  {
   "cell_type": "markdown",
   "metadata": {
    "id": "fz5BMC8Kaoqo"
   },
   "source": [
    "<img src=\"https://www.tensorflow.org/images/tutorials/transformer/multi_head_attention.png\" width=\"500\" alt=\"multi-head attention\">\n",
    "\n",
    "\n",
    "Multi-head attention consists of four parts:\n",
    "*    Linear layers and split into heads.\n",
    "*    Scaled dot-product attention.\n",
    "*    Concatenation of heads.\n",
    "*    Final linear layer."
   ]
  },
  {
   "cell_type": "markdown",
   "metadata": {
    "id": "JPmbr6F1C-v_"
   },
   "source": [
    "Each multi-head attention block gets three inputs; Q (query), K (key), V (value). These are put through linear (Dense) layers and split up into multiple heads. \n",
    "\n",
    "The `scaled_dot_product_attention` defined above is applied to each head (broadcasted for efficiency). An appropriate mask must be used in the attention step.  The attention output for each head is then concatenated (using `tf.transpose`, and `tf.reshape`) and put through a final `Dense` layer.\n",
    "\n",
    "Instead of one single attention head, Q, K, and V are split into multiple heads because it allows the model to jointly attend to information at different positions from different representational spaces. After the split each head has a reduced dimensionality, so the total computation cost is the same as a single head attention with full dimensionality."
   ]
  },
  {
   "cell_type": "code",
   "execution_count": 28,
   "metadata": {
    "execution": {
     "iopub.execute_input": "2021-01-08T06:10:23.707027Z",
     "iopub.status.busy": "2021-01-08T06:10:23.706471Z",
     "iopub.status.idle": "2021-01-08T06:10:23.708646Z",
     "shell.execute_reply": "2021-01-08T06:10:23.708244Z"
    },
    "id": "BSV3PPKsYecw"
   },
   "outputs": [],
   "source": [
    "class MultiHeadAttention(tf.keras.layers.Layer):\n",
    "  def __init__(self, d_model, num_heads):\n",
    "    super(MultiHeadAttention, self).__init__()\n",
    "    self.num_heads = num_heads\n",
    "    self.d_model = d_model\n",
    "    \n",
    "    assert d_model % self.num_heads == 0\n",
    "    \n",
    "    self.depth = d_model // self.num_heads\n",
    "    \n",
    "    self.wq = tf.keras.layers.Dense(d_model)\n",
    "    self.wk = tf.keras.layers.Dense(d_model)\n",
    "    self.wv = tf.keras.layers.Dense(d_model)\n",
    "    \n",
    "    self.dense = tf.keras.layers.Dense(d_model)\n",
    "        \n",
    "  def split_heads(self, x, batch_size):\n",
    "    \"\"\"Split the last dimension into (num_heads, depth).\n",
    "    Transpose the result such that the shape is (batch_size, num_heads, seq_len, depth)\n",
    "    \"\"\"\n",
    "    x = tf.reshape(x, (batch_size, -1, self.num_heads, self.depth))\n",
    "    return tf.transpose(x, perm=[0, 2, 1, 3])\n",
    "    \n",
    "  def call(self, v, k, q, mask):\n",
    "    batch_size = tf.shape(q)[0]\n",
    "    \n",
    "    q = self.wq(q)  # (batch_size, seq_len, d_model)\n",
    "    k = self.wk(k)  # (batch_size, seq_len, d_model)\n",
    "    v = self.wv(v)  # (batch_size, seq_len, d_model)\n",
    "    \n",
    "    q = self.split_heads(q, batch_size)  # (batch_size, num_heads, seq_len_q, depth)\n",
    "    k = self.split_heads(k, batch_size)  # (batch_size, num_heads, seq_len_k, depth)\n",
    "    v = self.split_heads(v, batch_size)  # (batch_size, num_heads, seq_len_v, depth)\n",
    "    \n",
    "    # scaled_attention.shape == (batch_size, num_heads, seq_len_q, depth)\n",
    "    # attention_weights.shape == (batch_size, num_heads, seq_len_q, seq_len_k)\n",
    "    scaled_attention, attention_weights = scaled_dot_product_attention(\n",
    "        q, k, v, mask)\n",
    "    \n",
    "    scaled_attention = tf.transpose(scaled_attention, perm=[0, 2, 1, 3])  # (batch_size, seq_len_q, num_heads, depth)\n",
    "\n",
    "    concat_attention = tf.reshape(scaled_attention, \n",
    "                                  (batch_size, -1, self.d_model))  # (batch_size, seq_len_q, d_model)\n",
    "\n",
    "    output = self.dense(concat_attention)  # (batch_size, seq_len_q, d_model)\n",
    "        \n",
    "    return output, attention_weights"
   ]
  },
  {
   "cell_type": "markdown",
   "metadata": {
    "id": "0D8FJue5lDyZ"
   },
   "source": [
    "Create a `MultiHeadAttention` layer to try out. At each location in the sequence, `y`, the `MultiHeadAttention` runs all 8 attention heads across all other locations in the sequence, returning a new vector of the same length at each location."
   ]
  },
  {
   "cell_type": "code",
   "execution_count": 29,
   "metadata": {
    "execution": {
     "iopub.execute_input": "2021-01-08T06:10:23.722835Z",
     "iopub.status.busy": "2021-01-08T06:10:23.712420Z",
     "iopub.status.idle": "2021-01-08T06:10:23.745585Z",
     "shell.execute_reply": "2021-01-08T06:10:23.745927Z"
    },
    "id": "Hu94p-_-2_BX"
   },
   "outputs": [
    {
     "data": {
      "text/plain": [
       "(TensorShape([1, 60, 512]), TensorShape([1, 8, 60, 60]))"
      ]
     },
     "execution_count": 1,
     "metadata": {},
     "output_type": "execute_result"
    }
   ],
   "source": [
    "temp_mha = MultiHeadAttention(d_model=512, num_heads=8)\n",
    "y = tf.random.uniform((1, 60, 512))  # (batch_size, encoder_sequence, d_model)\n",
    "out, attn = temp_mha(y, k=y, q=y, mask=None)\n",
    "out.shape, attn.shape"
   ]
  },
  {
   "cell_type": "markdown",
   "metadata": {
    "id": "RdDqGayx67vv"
   },
   "source": [
    "## Point wise feed forward network"
   ]
  },
  {
   "cell_type": "markdown",
   "metadata": {
    "id": "gBqzJXGfHK3X"
   },
   "source": [
    "Point wise feed forward network consists of two fully-connected layers with a ReLU activation in between."
   ]
  },
  {
   "cell_type": "code",
   "execution_count": 30,
   "metadata": {
    "execution": {
     "iopub.execute_input": "2021-01-08T06:10:23.750083Z",
     "iopub.status.busy": "2021-01-08T06:10:23.749537Z",
     "iopub.status.idle": "2021-01-08T06:10:23.751266Z",
     "shell.execute_reply": "2021-01-08T06:10:23.751610Z"
    },
    "id": "ET7xLt0yCT6Z"
   },
   "outputs": [],
   "source": [
    "def point_wise_feed_forward_network(d_model, dff):\n",
    "  return tf.keras.Sequential([\n",
    "      tf.keras.layers.Dense(dff, activation='relu'),  # (batch_size, seq_len, dff)\n",
    "      tf.keras.layers.Dense(d_model)  # (batch_size, seq_len, d_model)\n",
    "  ])"
   ]
  },
  {
   "cell_type": "code",
   "execution_count": 31,
   "metadata": {
    "execution": {
     "iopub.execute_input": "2021-01-08T06:10:23.757790Z",
     "iopub.status.busy": "2021-01-08T06:10:23.757230Z",
     "iopub.status.idle": "2021-01-08T06:10:23.781012Z",
     "shell.execute_reply": "2021-01-08T06:10:23.781387Z"
    },
    "id": "mytb1lPyOHLB"
   },
   "outputs": [
    {
     "data": {
      "text/plain": [
       "TensorShape([64, 50, 512])"
      ]
     },
     "execution_count": 1,
     "metadata": {},
     "output_type": "execute_result"
    }
   ],
   "source": [
    "sample_ffn = point_wise_feed_forward_network(512, 2048)\n",
    "sample_ffn(tf.random.uniform((64, 50, 512))).shape"
   ]
  },
  {
   "cell_type": "markdown",
   "metadata": {
    "id": "7e7hKcxn6-zd"
   },
   "source": [
    "## Encoder and decoder"
   ]
  },
  {
   "cell_type": "markdown",
   "metadata": {
    "id": "yScbC0MUH8dS"
   },
   "source": [
    "<img src=\"https://www.tensorflow.org/images/tutorials/transformer/transformer.png\" width=\"600\" alt=\"transformer\">"
   ]
  },
  {
   "cell_type": "markdown",
   "metadata": {
    "id": "MfYJG-Kvgwy2"
   },
   "source": [
    "The transformer model follows the same general pattern as a standard [sequence to sequence with attention model](nmt_with_attention.ipynb). \n",
    "\n",
    "* The input sentence is passed through `N` encoder layers that generates an output for each word/token in the sequence.\n",
    "* The decoder attends on the encoder's output and its own input (self-attention) to predict the next word. "
   ]
  },
  {
   "cell_type": "markdown",
   "metadata": {
    "id": "QFv-FNYUmvpn"
   },
   "source": [
    "### Encoder layer\n",
    "\n",
    "Each encoder layer consists of sublayers:\n",
    "\n",
    "1.   Multi-head attention (with padding mask) \n",
    "2.    Point wise feed forward networks. \n",
    "\n",
    "Each of these sublayers has a residual connection around it followed by a layer normalization. Residual connections help in avoiding the vanishing gradient problem in deep networks.\n",
    "\n",
    "The output of each sublayer is `LayerNorm(x + Sublayer(x))`. The normalization is done on the `d_model` (last) axis. There are N encoder layers in the transformer."
   ]
  },
  {
   "cell_type": "code",
   "execution_count": 32,
   "metadata": {
    "execution": {
     "iopub.execute_input": "2021-01-08T06:10:23.788442Z",
     "iopub.status.busy": "2021-01-08T06:10:23.787861Z",
     "iopub.status.idle": "2021-01-08T06:10:23.789767Z",
     "shell.execute_reply": "2021-01-08T06:10:23.789335Z"
    },
    "id": "ncyS-Ms3i2x_"
   },
   "outputs": [],
   "source": [
    "class EncoderLayer(tf.keras.layers.Layer):\n",
    "  def __init__(self, d_model, num_heads, dff, rate=0.1):\n",
    "    super(EncoderLayer, self).__init__()\n",
    "\n",
    "    self.mha = MultiHeadAttention(d_model, num_heads)\n",
    "    self.ffn = point_wise_feed_forward_network(d_model, dff)\n",
    "\n",
    "    self.layernorm1 = tf.keras.layers.LayerNormalization(epsilon=1e-6)\n",
    "    self.layernorm2 = tf.keras.layers.LayerNormalization(epsilon=1e-6)\n",
    "    \n",
    "    self.dropout1 = tf.keras.layers.Dropout(rate)\n",
    "    self.dropout2 = tf.keras.layers.Dropout(rate)\n",
    "    \n",
    "  def call(self, x, training, mask):\n",
    "\n",
    "    attn_output, _ = self.mha(x, x, x, mask)  # (batch_size, input_seq_len, d_model)\n",
    "    attn_output = self.dropout1(attn_output, training=training)\n",
    "    out1 = self.layernorm1(x + attn_output)  # (batch_size, input_seq_len, d_model)\n",
    "    \n",
    "    ffn_output = self.ffn(out1)  # (batch_size, input_seq_len, d_model)\n",
    "    ffn_output = self.dropout2(ffn_output, training=training)\n",
    "    out2 = self.layernorm2(out1 + ffn_output)  # (batch_size, input_seq_len, d_model)\n",
    "    \n",
    "    return out2"
   ]
  },
  {
   "cell_type": "code",
   "execution_count": 33,
   "metadata": {
    "execution": {
     "iopub.execute_input": "2021-01-08T06:10:23.800358Z",
     "iopub.status.busy": "2021-01-08T06:10:23.799796Z",
     "iopub.status.idle": "2021-01-08T06:10:23.842961Z",
     "shell.execute_reply": "2021-01-08T06:10:23.842532Z"
    },
    "id": "AzZRXdO0mI48"
   },
   "outputs": [
    {
     "data": {
      "text/plain": [
       "TensorShape([64, 43, 512])"
      ]
     },
     "execution_count": 1,
     "metadata": {},
     "output_type": "execute_result"
    }
   ],
   "source": [
    "sample_encoder_layer = EncoderLayer(512, 8, 2048)\n",
    "\n",
    "sample_encoder_layer_output = sample_encoder_layer(\n",
    "    tf.random.uniform((64, 43, 512)), False, None)\n",
    "\n",
    "sample_encoder_layer_output.shape  # (batch_size, input_seq_len, d_model)"
   ]
  },
  {
   "cell_type": "markdown",
   "metadata": {
    "id": "6LO_48Owmx_o"
   },
   "source": [
    "### Decoder layer\n",
    "\n",
    "Each decoder layer consists of sublayers:\n",
    "\n",
    "1.   Masked multi-head attention (with look ahead mask and padding mask)\n",
    "2.   Multi-head attention (with padding mask). V (value) and K (key) receive the *encoder output* as inputs. Q (query) receives the *output from the masked multi-head attention sublayer.*\n",
    "3.   Point wise feed forward networks\n",
    "\n",
    "Each of these sublayers has a residual connection around it followed by a layer normalization. The output of each sublayer is `LayerNorm(x + Sublayer(x))`. The normalization is done on the `d_model` (last) axis.\n",
    "\n",
    "There are N decoder layers in the transformer.\n",
    "\n",
    "As Q receives the output from decoder's first attention block, and K receives the encoder output, the attention weights represent the importance given to the decoder's input based on the encoder's output. In other words, the decoder predicts the next word by looking at the encoder output and self-attending to its own output. See the demonstration above in the scaled dot product attention section."
   ]
  },
  {
   "cell_type": "code",
   "execution_count": 34,
   "metadata": {
    "execution": {
     "iopub.execute_input": "2021-01-08T06:10:23.847268Z",
     "iopub.status.busy": "2021-01-08T06:10:23.846689Z",
     "iopub.status.idle": "2021-01-08T06:10:23.853560Z",
     "shell.execute_reply": "2021-01-08T06:10:23.853096Z"
    },
    "id": "9SoX0-vd1hue"
   },
   "outputs": [],
   "source": [
    "class DecoderLayer(tf.keras.layers.Layer):\n",
    "  def __init__(self, d_model, num_heads, dff, rate=0.1):\n",
    "    super(DecoderLayer, self).__init__()\n",
    "\n",
    "    self.mha1 = MultiHeadAttention(d_model, num_heads)\n",
    "    self.mha2 = MultiHeadAttention(d_model, num_heads)\n",
    "\n",
    "    self.ffn = point_wise_feed_forward_network(d_model, dff)\n",
    " \n",
    "    self.layernorm1 = tf.keras.layers.LayerNormalization(epsilon=1e-6)\n",
    "    self.layernorm2 = tf.keras.layers.LayerNormalization(epsilon=1e-6)\n",
    "    self.layernorm3 = tf.keras.layers.LayerNormalization(epsilon=1e-6)\n",
    "    \n",
    "    self.dropout1 = tf.keras.layers.Dropout(rate)\n",
    "    self.dropout2 = tf.keras.layers.Dropout(rate)\n",
    "    self.dropout3 = tf.keras.layers.Dropout(rate)\n",
    "    \n",
    "    \n",
    "  def call(self, x, enc_output, training, \n",
    "           look_ahead_mask, padding_mask):\n",
    "    # enc_output.shape == (batch_size, input_seq_len, d_model)\n",
    "\n",
    "    attn1, attn_weights_block1 = self.mha1(x, x, x, look_ahead_mask)  # (batch_size, target_seq_len, d_model)\n",
    "    attn1 = self.dropout1(attn1, training=training)\n",
    "    out1 = self.layernorm1(attn1 + x)\n",
    "    \n",
    "    attn2, attn_weights_block2 = self.mha2(\n",
    "        enc_output, enc_output, out1, padding_mask)  # (batch_size, target_seq_len, d_model)\n",
    "    attn2 = self.dropout2(attn2, training=training)\n",
    "    out2 = self.layernorm2(attn2 + out1)  # (batch_size, target_seq_len, d_model)\n",
    "    \n",
    "    ffn_output = self.ffn(out2)  # (batch_size, target_seq_len, d_model)\n",
    "    ffn_output = self.dropout3(ffn_output, training=training)\n",
    "    out3 = self.layernorm3(ffn_output + out2)  # (batch_size, target_seq_len, d_model)\n",
    "    \n",
    "    return out3, attn_weights_block1, attn_weights_block2"
   ]
  },
  {
   "cell_type": "code",
   "execution_count": 35,
   "metadata": {
    "execution": {
     "iopub.execute_input": "2021-01-08T06:10:23.865026Z",
     "iopub.status.busy": "2021-01-08T06:10:23.864430Z",
     "iopub.status.idle": "2021-01-08T06:10:23.910381Z",
     "shell.execute_reply": "2021-01-08T06:10:23.910754Z"
    },
    "id": "Ne2Bqx8k71l0"
   },
   "outputs": [
    {
     "data": {
      "text/plain": [
       "TensorShape([64, 50, 512])"
      ]
     },
     "execution_count": 1,
     "metadata": {},
     "output_type": "execute_result"
    }
   ],
   "source": [
    "sample_decoder_layer = DecoderLayer(512, 8, 2048)\n",
    "\n",
    "sample_decoder_layer_output, _, _ = sample_decoder_layer(\n",
    "    tf.random.uniform((64, 50, 512)), sample_encoder_layer_output, \n",
    "    False, None, None)\n",
    "\n",
    "sample_decoder_layer_output.shape  # (batch_size, target_seq_len, d_model)"
   ]
  },
  {
   "cell_type": "markdown",
   "metadata": {
    "id": "SE1H51Ajm0q1"
   },
   "source": [
    "### Encoder\n",
    "\n",
    "The `Encoder` consists of:\n",
    "1.   Input Embedding\n",
    "2.   Positional Encoding\n",
    "3.   N encoder layers\n",
    "\n",
    "The input is put through an embedding which is summed with the positional encoding. The output of this summation is the input to the encoder layers. The output of the encoder is the input to the decoder."
   ]
  },
  {
   "cell_type": "code",
   "execution_count": 36,
   "metadata": {
    "execution": {
     "iopub.execute_input": "2021-01-08T06:10:23.917979Z",
     "iopub.status.busy": "2021-01-08T06:10:23.917412Z",
     "iopub.status.idle": "2021-01-08T06:10:23.919428Z",
     "shell.execute_reply": "2021-01-08T06:10:23.918934Z"
    },
    "id": "jpEox7gJ8FCI"
   },
   "outputs": [],
   "source": [
    "class Encoder(tf.keras.layers.Layer):\n",
    "  def __init__(self, num_layers, d_model, num_heads, dff, input_vocab_size,\n",
    "               maximum_position_encoding, rate=0.1):\n",
    "    super(Encoder, self).__init__()\n",
    "\n",
    "    self.d_model = d_model\n",
    "    self.num_layers = num_layers\n",
    "    \n",
    "    self.embedding = tf.keras.layers.Embedding(input_vocab_size, d_model)\n",
    "    self.pos_encoding = positional_encoding(maximum_position_encoding, \n",
    "                                            self.d_model)\n",
    "    \n",
    "    \n",
    "    self.enc_layers = [EncoderLayer(d_model, num_heads, dff, rate) \n",
    "                       for _ in range(num_layers)]\n",
    "  \n",
    "    self.dropout = tf.keras.layers.Dropout(rate)\n",
    "        \n",
    "  def call(self, x, training, mask):\n",
    "\n",
    "    seq_len = tf.shape(x)[1]\n",
    "    \n",
    "    # adding embedding and position encoding.\n",
    "    x = self.embedding(x)  # (batch_size, input_seq_len, d_model)\n",
    "    x *= tf.math.sqrt(tf.cast(self.d_model, tf.float32))\n",
    "    x += self.pos_encoding[:, :seq_len, :]\n",
    "\n",
    "    x = self.dropout(x, training=training)\n",
    "    \n",
    "    for i in range(self.num_layers):\n",
    "      x = self.enc_layers[i](x, training, mask)\n",
    "    \n",
    "    return x  # (batch_size, input_seq_len, d_model)"
   ]
  },
  {
   "cell_type": "code",
   "execution_count": 37,
   "metadata": {
    "execution": {
     "iopub.execute_input": "2021-01-08T06:10:23.927599Z",
     "iopub.status.busy": "2021-01-08T06:10:23.927038Z",
     "iopub.status.idle": "2021-01-08T06:10:24.192759Z",
     "shell.execute_reply": "2021-01-08T06:10:24.193139Z"
    },
    "id": "8QG9nueFQKXx"
   },
   "outputs": [
    {
     "name": "stdout",
     "output_type": "stream",
     "text": [
      "(64, 62, 512)\n"
     ]
    }
   ],
   "source": [
    "sample_encoder = Encoder(num_layers=2, d_model=512, num_heads=8, \n",
    "                         dff=2048, input_vocab_size=8500,\n",
    "                         maximum_position_encoding=10000)\n",
    "temp_input = tf.random.uniform((64, 62), dtype=tf.int64, minval=0, maxval=200)\n",
    "\n",
    "sample_encoder_output = sample_encoder(temp_input, training=False, mask=None)\n",
    "\n",
    "print (sample_encoder_output.shape)  # (batch_size, input_seq_len, d_model)"
   ]
  },
  {
   "cell_type": "markdown",
   "metadata": {
    "id": "p-uO6ls8m2O5"
   },
   "source": [
    "### Decoder"
   ]
  },
  {
   "cell_type": "markdown",
   "metadata": {
    "id": "ZtT7PKzrXkNr"
   },
   "source": [
    " The `Decoder` consists of:\n",
    "1.   Output Embedding\n",
    "2.   Positional Encoding\n",
    "3.   N decoder layers\n",
    "\n",
    "The target is put through an embedding which is summed with the positional encoding. The output of this summation is the input to the decoder layers. The output of the decoder is the input to the final linear layer."
   ]
  },
  {
   "cell_type": "code",
   "execution_count": 38,
   "metadata": {
    "execution": {
     "iopub.execute_input": "2021-01-08T06:10:24.201869Z",
     "iopub.status.busy": "2021-01-08T06:10:24.201304Z",
     "iopub.status.idle": "2021-01-08T06:10:24.202902Z",
     "shell.execute_reply": "2021-01-08T06:10:24.203254Z"
    },
    "id": "d5_d5-PLQXwY"
   },
   "outputs": [],
   "source": [
    "class Decoder(tf.keras.layers.Layer):\n",
    "  def __init__(self, num_layers, d_model, num_heads, dff, target_vocab_size,\n",
    "               maximum_position_encoding, rate=0.1):\n",
    "    super(Decoder, self).__init__()\n",
    "\n",
    "    self.d_model = d_model\n",
    "    self.num_layers = num_layers\n",
    "    \n",
    "    self.embedding = tf.keras.layers.Embedding(target_vocab_size, d_model)\n",
    "    self.pos_encoding = positional_encoding(maximum_position_encoding, d_model)\n",
    "    \n",
    "    self.dec_layers = [DecoderLayer(d_model, num_heads, dff, rate) \n",
    "                       for _ in range(num_layers)]\n",
    "    self.dropout = tf.keras.layers.Dropout(rate)\n",
    "    \n",
    "  def call(self, x, enc_output, training, \n",
    "           look_ahead_mask, padding_mask):\n",
    "\n",
    "    seq_len = tf.shape(x)[1]\n",
    "    attention_weights = {}\n",
    "    \n",
    "    x = self.embedding(x)  # (batch_size, target_seq_len, d_model)\n",
    "    x *= tf.math.sqrt(tf.cast(self.d_model, tf.float32))\n",
    "    x += self.pos_encoding[:, :seq_len, :]\n",
    "    \n",
    "    x = self.dropout(x, training=training)\n",
    "\n",
    "    for i in range(self.num_layers):\n",
    "      x, block1, block2 = self.dec_layers[i](x, enc_output, training,\n",
    "                                             look_ahead_mask, padding_mask)\n",
    "      \n",
    "      attention_weights['decoder_layer{}_block1'.format(i+1)] = block1\n",
    "      attention_weights['decoder_layer{}_block2'.format(i+1)] = block2\n",
    "    \n",
    "    # x.shape == (batch_size, target_seq_len, d_model)\n",
    "    return x, attention_weights"
   ]
  },
  {
   "cell_type": "code",
   "execution_count": 39,
   "metadata": {
    "execution": {
     "iopub.execute_input": "2021-01-08T06:10:24.208750Z",
     "iopub.status.busy": "2021-01-08T06:10:24.208175Z",
     "iopub.status.idle": "2021-01-08T06:10:24.405402Z",
     "shell.execute_reply": "2021-01-08T06:10:24.404842Z"
    },
    "id": "a1jXoAMRZyvu"
   },
   "outputs": [
    {
     "data": {
      "text/plain": [
       "(TensorShape([64, 26, 512]), TensorShape([64, 8, 26, 62]))"
      ]
     },
     "execution_count": 1,
     "metadata": {},
     "output_type": "execute_result"
    }
   ],
   "source": [
    "sample_decoder = Decoder(num_layers=2, d_model=512, num_heads=8, \n",
    "                         dff=2048, target_vocab_size=8000,\n",
    "                         maximum_position_encoding=5000)\n",
    "temp_input = tf.random.uniform((64, 26), dtype=tf.int64, minval=0, maxval=200)\n",
    "\n",
    "output, attn = sample_decoder(temp_input, \n",
    "                              enc_output=sample_encoder_output, \n",
    "                              training=False,\n",
    "                              look_ahead_mask=None, \n",
    "                              padding_mask=None)\n",
    "\n",
    "output.shape, attn['decoder_layer2_block2'].shape"
   ]
  },
  {
   "cell_type": "markdown",
   "metadata": {
    "id": "y54xnJnuYgJ7"
   },
   "source": [
    "## Create the Transformer"
   ]
  },
  {
   "cell_type": "markdown",
   "metadata": {
    "id": "uERO1y54cOKq"
   },
   "source": [
    "Transformer consists of the encoder, decoder and a final linear layer. The output of the decoder is the input to the linear layer and its output is returned."
   ]
  },
  {
   "cell_type": "code",
   "execution_count": 40,
   "metadata": {
    "execution": {
     "iopub.execute_input": "2021-01-08T06:10:24.411991Z",
     "iopub.status.busy": "2021-01-08T06:10:24.411418Z",
     "iopub.status.idle": "2021-01-08T06:10:24.413093Z",
     "shell.execute_reply": "2021-01-08T06:10:24.413442Z"
    },
    "id": "PED3bIpOYkBu"
   },
   "outputs": [],
   "source": [
    "class Transformer(tf.keras.Model):\n",
    "  def __init__(self, num_layers, d_model, num_heads, dff, input_vocab_size, \n",
    "               target_vocab_size, pe_input, pe_target, rate=0.1):\n",
    "    super(Transformer, self).__init__()\n",
    "\n",
    "    self.encoder = Encoder(num_layers, d_model, num_heads, dff, \n",
    "                           input_vocab_size, pe_input, rate)\n",
    "\n",
    "    self.decoder = Decoder(num_layers, d_model, num_heads, dff, \n",
    "                           target_vocab_size, pe_target, rate)\n",
    "\n",
    "    self.final_layer = tf.keras.layers.Dense(target_vocab_size)\n",
    "    \n",
    "  def call(self, inp, tar, training, enc_padding_mask, \n",
    "           look_ahead_mask, dec_padding_mask):\n",
    "\n",
    "    enc_output = self.encoder(inp, training, enc_padding_mask)  # (batch_size, inp_seq_len, d_model)\n",
    "    \n",
    "    # dec_output.shape == (batch_size, tar_seq_len, d_model)\n",
    "    dec_output, attention_weights = self.decoder(\n",
    "        tar, enc_output, training, look_ahead_mask, dec_padding_mask)\n",
    "    \n",
    "    final_output = self.final_layer(dec_output)  # (batch_size, tar_seq_len, target_vocab_size)\n",
    "    \n",
    "    return final_output, attention_weights"
   ]
  },
  {
   "cell_type": "code",
   "execution_count": 41,
   "metadata": {
    "execution": {
     "iopub.execute_input": "2021-01-08T06:10:24.420454Z",
     "iopub.status.busy": "2021-01-08T06:10:24.419337Z",
     "iopub.status.idle": "2021-01-08T06:10:24.893888Z",
     "shell.execute_reply": "2021-01-08T06:10:24.893401Z"
    },
    "id": "tJ4fbQcIkHW1"
   },
   "outputs": [
    {
     "data": {
      "text/plain": [
       "TensorShape([64, 36, 8000])"
      ]
     },
     "execution_count": 1,
     "metadata": {},
     "output_type": "execute_result"
    }
   ],
   "source": [
    "sample_transformer = Transformer(\n",
    "    num_layers=2, d_model=512, num_heads=8, dff=2048, \n",
    "    input_vocab_size=8500, target_vocab_size=8000, \n",
    "    pe_input=10000, pe_target=6000)\n",
    "\n",
    "temp_input = tf.random.uniform((64, 38), dtype=tf.int64, minval=0, maxval=200)\n",
    "temp_target = tf.random.uniform((64, 36), dtype=tf.int64, minval=0, maxval=200)\n",
    "\n",
    "fn_out, _ = sample_transformer(temp_input, temp_target, training=False, \n",
    "                               enc_padding_mask=None, \n",
    "                               look_ahead_mask=None,\n",
    "                               dec_padding_mask=None)\n",
    "\n",
    "fn_out.shape  # (batch_size, tar_seq_len, target_vocab_size)"
   ]
  },
  {
   "cell_type": "markdown",
   "metadata": {
    "id": "wsINyf1VEQLC"
   },
   "source": [
    "## Set hyperparameters"
   ]
  },
  {
   "cell_type": "markdown",
   "metadata": {
    "id": "zVjWCxFNcgbt"
   },
   "source": [
    "To keep this example small and relatively fast, the values for *num_layers, d_model, and dff* have been reduced. \n",
    "\n",
    "The values used in the base model of transformer were; *num_layers=6*, *d_model = 512*, *dff = 2048*. See the [paper](https://arxiv.org/abs/1706.03762) for all the other versions of the transformer.\n",
    "\n",
    "Note: By changing the values below, you can get the model that achieved state of the art on many tasks."
   ]
  },
  {
   "cell_type": "code",
   "execution_count": 42,
   "metadata": {
    "execution": {
     "iopub.execute_input": "2021-01-08T06:10:24.898151Z",
     "iopub.status.busy": "2021-01-08T06:10:24.897583Z",
     "iopub.status.idle": "2021-01-08T06:10:24.899289Z",
     "shell.execute_reply": "2021-01-08T06:10:24.899635Z"
    },
    "id": "lnJn5SLA2ahP"
   },
   "outputs": [],
   "source": [
    "num_layers = 4\n",
    "d_model = 128\n",
    "dff = 512\n",
    "num_heads = 8\n",
    "\n",
    "input_vocab_size = tokenizer_pt.vocab_size + 2\n",
    "target_vocab_size = tokenizer_en.vocab_size + 2\n",
    "dropout_rate = 0.1"
   ]
  },
  {
   "cell_type": "markdown",
   "metadata": {
    "id": "xYEGhEOtzn5W"
   },
   "source": [
    "## Optimizer"
   ]
  },
  {
   "cell_type": "markdown",
   "metadata": {
    "id": "GOmWW--yP3zx"
   },
   "source": [
    "Use the Adam optimizer with a custom learning rate scheduler according to the formula in the [paper](https://arxiv.org/abs/1706.03762).\n",
    "\n",
    "$$\\Large{lrate = d_{model}^{-0.5} * min(step{\\_}num^{-0.5}, step{\\_}num * warmup{\\_}steps^{-1.5})}$$\n"
   ]
  },
  {
   "cell_type": "code",
   "execution_count": 43,
   "metadata": {
    "execution": {
     "iopub.execute_input": "2021-01-08T06:10:24.905128Z",
     "iopub.status.busy": "2021-01-08T06:10:24.904462Z",
     "iopub.status.idle": "2021-01-08T06:10:24.906494Z",
     "shell.execute_reply": "2021-01-08T06:10:24.906089Z"
    },
    "id": "iYQdOO1axwEI"
   },
   "outputs": [],
   "source": [
    "class CustomSchedule(tf.keras.optimizers.schedules.LearningRateSchedule):\n",
    "  def __init__(self, d_model, warmup_steps=4000):\n",
    "    super(CustomSchedule, self).__init__()\n",
    "    \n",
    "    self.d_model = d_model\n",
    "    self.d_model = tf.cast(self.d_model, tf.float32)\n",
    "\n",
    "    self.warmup_steps = warmup_steps\n",
    "    \n",
    "  def __call__(self, step):\n",
    "    arg1 = tf.math.rsqrt(step)\n",
    "    arg2 = step * (self.warmup_steps ** -1.5)\n",
    "    \n",
    "    return tf.math.rsqrt(self.d_model) * tf.math.minimum(arg1, arg2)"
   ]
  },
  {
   "cell_type": "code",
   "execution_count": 44,
   "metadata": {
    "execution": {
     "iopub.execute_input": "2021-01-08T06:10:24.909928Z",
     "iopub.status.busy": "2021-01-08T06:10:24.909361Z",
     "iopub.status.idle": "2021-01-08T06:10:24.911791Z",
     "shell.execute_reply": "2021-01-08T06:10:24.912140Z"
    },
    "id": "7r4scdulztRx"
   },
   "outputs": [],
   "source": [
    "learning_rate = CustomSchedule(d_model)\n",
    "\n",
    "optimizer = tf.keras.optimizers.Adam(learning_rate, beta_1=0.9, beta_2=0.98, \n",
    "                                     epsilon=1e-9)"
   ]
  },
  {
   "cell_type": "code",
   "execution_count": 45,
   "metadata": {
    "execution": {
     "iopub.execute_input": "2021-01-08T06:10:24.916142Z",
     "iopub.status.busy": "2021-01-08T06:10:24.915556Z",
     "iopub.status.idle": "2021-01-08T06:10:25.048217Z",
     "shell.execute_reply": "2021-01-08T06:10:25.047776Z"
    },
    "id": "f33ZCgvHpPdG"
   },
   "outputs": [
    {
     "data": {
      "text/plain": [
       "Text(0.5, 0, 'Train Step')"
      ]
     },
     "execution_count": 1,
     "metadata": {},
     "output_type": "execute_result"
    },
    {
     "data": {
      "image/png": "[encoded data removed]",
      "text/plain": [
       "<Figure size 432x288 with 1 Axes>"
      ]
     },
     "metadata": {
      "needs_background": "light"
     },
     "output_type": "display_data"
    }
   ],
   "source": [
    "temp_learning_rate_schedule = CustomSchedule(d_model)\n",
    "\n",
    "plt.plot(temp_learning_rate_schedule(tf.range(40000, dtype=tf.float32)))\n",
    "plt.ylabel(\"Learning Rate\")\n",
    "plt.xlabel(\"Train Step\")"
   ]
  },
  {
   "cell_type": "markdown",
   "metadata": {
    "id": "YgkDE7hzo8r5"
   },
   "source": [
    "## Loss and metrics"
   ]
  },
  {
   "cell_type": "markdown",
   "metadata": {
    "id": "oxGJtoDuYIHL"
   },
   "source": [
    "Since the target sequences are padded, it is important to apply a padding mask when calculating the loss."
   ]
  },
  {
   "cell_type": "code",
   "execution_count": 46,
   "metadata": {
    "execution": {
     "iopub.execute_input": "2021-01-08T06:10:25.051904Z",
     "iopub.status.busy": "2021-01-08T06:10:25.051347Z",
     "iopub.status.idle": "2021-01-08T06:10:25.053070Z",
     "shell.execute_reply": "2021-01-08T06:10:25.053423Z"
    },
    "id": "MlhsJMm0TW_B"
   },
   "outputs": [],
   "source": [
    "loss_object = tf.keras.losses.SparseCategoricalCrossentropy(\n",
    "    from_logits=True, reduction='none')"
   ]
  },
  {
   "cell_type": "code",
   "execution_count": 47,
   "metadata": {
    "execution": {
     "iopub.execute_input": "2021-01-08T06:10:25.059425Z",
     "iopub.status.busy": "2021-01-08T06:10:25.058852Z",
     "iopub.status.idle": "2021-01-08T06:10:25.060747Z",
     "shell.execute_reply": "2021-01-08T06:10:25.060251Z"
    },
    "id": "67oqVHiT0Eiu"
   },
   "outputs": [],
   "source": [
    "def loss_function(real, pred):\n",
    "  mask = tf.math.logical_not(tf.math.equal(real, 0))\n",
    "  loss_ = loss_object(real, pred)\n",
    "\n",
    "  mask = tf.cast(mask, dtype=loss_.dtype)\n",
    "  loss_ *= mask\n",
    "  \n",
    "  return tf.reduce_sum(loss_)/tf.reduce_sum(mask)\n",
    "\n",
    "\n",
    "def accuracy_function(real, pred):\n",
    "  accuracies = tf.equal(real, tf.argmax(pred, axis=2))\n",
    "  \n",
    "  mask = tf.math.logical_not(tf.math.equal(real, 0))\n",
    "  accuracies = tf.math.logical_and(mask, accuracies)\n",
    "\n",
    "  accuracies = tf.cast(accuracies, dtype=tf.float32)\n",
    "  mask = tf.cast(mask, dtype=tf.float32)\n",
    "  return tf.reduce_sum(accuracies)/tf.reduce_sum(mask)"
   ]
  },
  {
   "cell_type": "code",
   "execution_count": 48,
   "metadata": {
    "execution": {
     "iopub.execute_input": "2021-01-08T06:10:25.070200Z",
     "iopub.status.busy": "2021-01-08T06:10:25.069628Z",
     "iopub.status.idle": "2021-01-08T06:10:25.077395Z",
     "shell.execute_reply": "2021-01-08T06:10:25.076922Z"
    },
    "id": "phlyxMnm-Tpx"
   },
   "outputs": [],
   "source": [
    "train_loss = tf.keras.metrics.Mean(name='train_loss')\n",
    "train_accuracy = tf.keras.metrics.Mean(name='train_accuracy')"
   ]
  },
  {
   "cell_type": "markdown",
   "metadata": {
    "id": "aeHumfr7zmMa"
   },
   "source": [
    "## Training and checkpointing"
   ]
  },
  {
   "cell_type": "code",
   "execution_count": 49,
   "metadata": {
    "execution": {
     "iopub.execute_input": "2021-01-08T06:10:25.082470Z",
     "iopub.status.busy": "2021-01-08T06:10:25.081925Z",
     "iopub.status.idle": "2021-01-08T06:10:25.216072Z",
     "shell.execute_reply": "2021-01-08T06:10:25.216438Z"
    },
    "id": "UiysUa--4tOU"
   },
   "outputs": [],
   "source": [
    "transformer = Transformer(num_layers, d_model, num_heads, dff,\n",
    "                          input_vocab_size, target_vocab_size, \n",
    "                          pe_input=input_vocab_size, \n",
    "                          pe_target=target_vocab_size,\n",
    "                          rate=dropout_rate)"
   ]
  },
  {
   "cell_type": "code",
   "execution_count": 50,
   "metadata": {
    "execution": {
     "iopub.execute_input": "2021-01-08T06:10:25.221215Z",
     "iopub.status.busy": "2021-01-08T06:10:25.220607Z",
     "iopub.status.idle": "2021-01-08T06:10:25.222787Z",
     "shell.execute_reply": "2021-01-08T06:10:25.222348Z"
    },
    "id": "ZOJUSB1T8GjM"
   },
   "outputs": [],
   "source": [
    "def create_masks(inp, tar):\n",
    "  # Encoder padding mask\n",
    "  enc_padding_mask = create_padding_mask(inp)\n",
    "  \n",
    "  # Used in the 2nd attention block in the decoder.\n",
    "  # This padding mask is used to mask the encoder outputs.\n",
    "  dec_padding_mask = create_padding_mask(inp)\n",
    "  \n",
    "  # Used in the 1st attention block in the decoder.\n",
    "  # It is used to pad and mask future tokens in the input received by \n",
    "  # the decoder.\n",
    "  look_ahead_mask = create_look_ahead_mask(tf.shape(tar)[1])\n",
    "  dec_target_padding_mask = create_padding_mask(tar)\n",
    "  combined_mask = tf.maximum(dec_target_padding_mask, look_ahead_mask)\n",
    "  \n",
    "  return enc_padding_mask, combined_mask, dec_padding_mask"
   ]
  },
  {
   "cell_type": "markdown",
   "metadata": {
    "id": "Fzuf06YZp66w"
   },
   "source": [
    "Create the checkpoint path and the checkpoint manager. This will be used to save checkpoints every `n` epochs."
   ]
  },
  {
   "cell_type": "code",
   "execution_count": 51,
   "metadata": {
    "execution": {
     "iopub.execute_input": "2021-01-08T06:10:25.227422Z",
     "iopub.status.busy": "2021-01-08T06:10:25.226871Z",
     "iopub.status.idle": "2021-01-08T06:10:25.228661Z",
     "shell.execute_reply": "2021-01-08T06:10:25.229042Z"
    },
    "id": "hNhuYfllndLZ"
   },
   "outputs": [],
   "source": [
    "checkpoint_path = \"./checkpoints/train\"\n",
    "\n",
    "ckpt = tf.train.Checkpoint(transformer=transformer,\n",
    "                           optimizer=optimizer)\n",
    "\n",
    "ckpt_manager = tf.train.CheckpointManager(ckpt, checkpoint_path, max_to_keep=5)\n",
    "\n",
    "# if a checkpoint exists, restore the latest checkpoint.\n",
    "if ckpt_manager.latest_checkpoint:\n",
    "  ckpt.restore(ckpt_manager.latest_checkpoint)\n",
    "  print ('Latest checkpoint restored!!')"
   ]
  },
  {
   "cell_type": "markdown",
   "metadata": {
    "id": "0Di_Yaa1gf9r"
   },
   "source": [
    "The target is divided into tar_inp and tar_real. tar_inp is passed as an input to the decoder. `tar_real` is that same input shifted by 1: At each location in `tar_input`, `tar_real` contains the  next token that should be predicted.\n",
    "\n",
    "For example, `sentence` = \"SOS A lion in the jungle is sleeping EOS\"\n",
    "\n",
    "`tar_inp` =  \"SOS A lion in the jungle is sleeping\"\n",
    "\n",
    "`tar_real` = \"A lion in the jungle is sleeping EOS\"\n",
    "\n",
    "The transformer is an auto-regressive model: it makes predictions one part at a time, and uses its output so far to decide what to do next. \n",
    "\n",
    "During training this example uses teacher-forcing (like in the [text generation tutorial](./text_generation.ipynb)). Teacher forcing is passing the true output to the next time step regardless of what the model predicts at the current time step.\n",
    "\n",
    "As the transformer predicts each word, *self-attention* allows it to look at the previous words in the input sequence to better predict the next word.\n",
    "\n",
    "To prevent the model from peeking at the expected output the model uses a look-ahead mask."
   ]
  },
  {
   "cell_type": "code",
   "execution_count": 52,
   "metadata": {
    "execution": {
     "iopub.execute_input": "2021-01-08T06:10:25.232553Z",
     "iopub.status.busy": "2021-01-08T06:10:25.232009Z",
     "iopub.status.idle": "2021-01-08T06:10:25.234266Z",
     "shell.execute_reply": "2021-01-08T06:10:25.233734Z"
    },
    "id": "LKpoA6q1sJFj"
   },
   "outputs": [],
   "source": [
    "EPOCHS = 20"
   ]
  },
  {
   "cell_type": "code",
   "execution_count": 53,
   "metadata": {
    "execution": {
     "iopub.execute_input": "2021-01-08T06:10:25.240606Z",
     "iopub.status.busy": "2021-01-08T06:10:25.239973Z",
     "iopub.status.idle": "2021-01-08T06:10:25.242091Z",
     "shell.execute_reply": "2021-01-08T06:10:25.241660Z"
    },
    "id": "iJwmp9OE29oj"
   },
   "outputs": [],
   "source": [
    "# The @tf.function trace-compiles train_step into a TF graph for faster\n",
    "# execution. The function specializes to the precise shape of the argument\n",
    "# tensors. To avoid re-tracing due to the variable sequence lengths or variable\n",
    "# batch sizes (the last batch is smaller), use input_signature to specify\n",
    "# more generic shapes.\n",
    "\n",
    "train_step_signature = [\n",
    "    tf.TensorSpec(shape=(None, None), dtype=tf.int64),\n",
    "    tf.TensorSpec(shape=(None, None), dtype=tf.int64),\n",
    "]\n",
    "\n",
    "@tf.function(input_signature=train_step_signature)\n",
    "def train_step(inp, tar):\n",
    "  tar_inp = tar[:, :-1]\n",
    "  tar_real = tar[:, 1:]\n",
    "  \n",
    "  enc_padding_mask, combined_mask, dec_padding_mask = create_masks(inp, tar_inp)\n",
    "  \n",
    "  with tf.GradientTape() as tape:\n",
    "    predictions, _ = transformer(inp, tar_inp, \n",
    "                                 True, \n",
    "                                 enc_padding_mask, \n",
    "                                 combined_mask, \n",
    "                                 dec_padding_mask)\n",
    "    loss = loss_function(tar_real, predictions)\n",
    "\n",
    "  gradients = tape.gradient(loss, transformer.trainable_variables)    \n",
    "  optimizer.apply_gradients(zip(gradients, transformer.trainable_variables))\n",
    "  \n",
    "  train_loss(loss)\n",
    "  train_accuracy(accuracy_function(tar_real, predictions))"
   ]
  },
  {
   "cell_type": "markdown",
   "metadata": {
    "id": "qM2PDWGDJ_8V"
   },
   "source": [
    "Portuguese is used as the input language and English is the target language."
   ]
  },
  {
   "cell_type": "code",
   "execution_count": 54,
   "metadata": {
    "execution": {
     "iopub.execute_input": "2021-01-08T06:10:25.248378Z",
     "iopub.status.busy": "2021-01-08T06:10:25.247669Z",
     "iopub.status.idle": "2021-01-08T06:21:08.163518Z",
     "shell.execute_reply": "2021-01-08T06:21:08.162991Z"
    },
    "id": "bbvmaKNiznHZ"
   },
   "outputs": [
    {
     "name": "stdout",
     "output_type": "stream",
     "text": [
      "Epoch 1 Batch 0 Loss 9.0325 Accuracy 0.0000\n",
      "Epoch 1 Batch 50 Loss 8.9631 Accuracy 0.0029\n",
      "Epoch 1 Batch 100 Loss 8.8625 Accuracy 0.0285\n",
      "Epoch 1 Batch 150 Loss 8.7535 Accuracy 0.0396\n",
      "Epoch 1 Batch 200 Loss 8.6247 Accuracy 0.0465\n",
      "Epoch 1 Batch 250 Loss 8.4712 Accuracy 0.0555\n",
      "Epoch 1 Batch 300 Loss 8.2956 Accuracy 0.0660\n",
      "Epoch 1 Batch 350 Loss 8.1095 Accuracy 0.0753\n",
      "Epoch 1 Batch 400 Loss 7.9295 Accuracy 0.0823\n",
      "Epoch 1 Batch 450 Loss 7.7644 Accuracy 0.0879\n",
      "Epoch 1 Batch 500 Loss 7.6171 Accuracy 0.0927\n",
      "Epoch 1 Batch 550 Loss 7.4840 Accuracy 0.0983\n",
      "Epoch 1 Batch 600 Loss 7.3578 Accuracy 0.1048\n",
      "Epoch 1 Batch 650 Loss 7.2364 Accuracy 0.1117\n",
      "Epoch 1 Batch 700 Loss 7.1232 Accuracy 0.1185\n",
      "Epoch 1 Loss 7.1188 Accuracy 0.1187\n",
      "Time taken for 1 epoch: 54.0901415348053 secs\n",
      "\n",
      "Epoch 2 Batch 0 Loss 5.5828 Accuracy 0.1969\n",
      "Epoch 2 Batch 50 Loss 5.4646 Accuracy 0.2218\n",
      "Epoch 2 Batch 100 Loss 5.4122 Accuracy 0.2249\n",
      "Epoch 2 Batch 150 Loss 5.3780 Accuracy 0.2278\n",
      "Epoch 2 Batch 200 Loss 5.3342 Accuracy 0.2315\n",
      "Epoch 2 Batch 250 Loss 5.2924 Accuracy 0.2352\n",
      "Epoch 2 Batch 300 Loss 5.2508 Accuracy 0.2393\n",
      "Epoch 2 Batch 350 Loss 5.2157 Accuracy 0.2424\n",
      "Epoch 2 Batch 400 Loss 5.1816 Accuracy 0.2459\n",
      "Epoch 2 Batch 450 Loss 5.1515 Accuracy 0.2492\n",
      "Epoch 2 Batch 500 Loss 5.1203 Accuracy 0.2523\n",
      "Epoch 2 Batch 550 Loss 5.0920 Accuracy 0.2552\n",
      "Epoch 2 Batch 600 Loss 5.0661 Accuracy 0.2579\n",
      "Epoch 2 Batch 650 Loss 5.0418 Accuracy 0.2604\n",
      "Epoch 2 Batch 700 Loss 5.0186 Accuracy 0.2627\n",
      "Epoch 2 Loss 5.0179 Accuracy 0.2628\n",
      "Time taken for 1 epoch: 30.69964909553528 secs\n",
      "\n",
      "Epoch 3 Batch 0 Loss 4.6354 Accuracy 0.3023\n",
      "Epoch 3 Batch 50 Loss 4.6234 Accuracy 0.3012\n",
      "Epoch 3 Batch 100 Loss 4.6082 Accuracy 0.3021\n",
      "Epoch 3 Batch 150 Loss 4.6073 Accuracy 0.3030\n",
      "Epoch 3 Batch 200 Loss 4.5980 Accuracy 0.3043\n",
      "Epoch 3 Batch 250 Loss 4.5887 Accuracy 0.3054\n",
      "Epoch 3 Batch 300 Loss 4.5753 Accuracy 0.3069\n",
      "Epoch 3 Batch 350 Loss 4.5617 Accuracy 0.3084\n",
      "Epoch 3 Batch 400 Loss 4.5476 Accuracy 0.3099\n",
      "Epoch 3 Batch 450 Loss 4.5342 Accuracy 0.3112\n",
      "Epoch 3 Batch 500 Loss 4.5243 Accuracy 0.3122\n",
      "Epoch 3 Batch 550 Loss 4.5141 Accuracy 0.3134\n",
      "Epoch 3 Batch 600 Loss 4.5010 Accuracy 0.3148\n",
      "Epoch 3 Batch 650 Loss 4.4917 Accuracy 0.3158\n",
      "Epoch 3 Batch 700 Loss 4.4797 Accuracy 0.3170\n",
      "Epoch 3 Loss 4.4795 Accuracy 0.3170\n",
      "Time taken for 1 epoch: 30.95038342475891 secs\n",
      "\n",
      "Epoch 4 Batch 0 Loss 3.9974 Accuracy 0.3544\n",
      "Epoch 4 Batch 50 Loss 4.2098 Accuracy 0.3431\n",
      "Epoch 4 Batch 100 Loss 4.1827 Accuracy 0.3466\n",
      "Epoch 4 Batch 150 Loss 4.1836 Accuracy 0.3471\n",
      "Epoch 4 Batch 200 Loss 4.1799 Accuracy 0.3473\n",
      "Epoch 4 Batch 250 Loss 4.1675 Accuracy 0.3486\n",
      "Epoch 4 Batch 300 Loss 4.1581 Accuracy 0.3501\n",
      "Epoch 4 Batch 350 Loss 4.1447 Accuracy 0.3516\n",
      "Epoch 4 Batch 400 Loss 4.1289 Accuracy 0.3538\n",
      "Epoch 4 Batch 450 Loss 4.1132 Accuracy 0.3559\n",
      "Epoch 4 Batch 500 Loss 4.0977 Accuracy 0.3581\n",
      "Epoch 4 Batch 550 Loss 4.0811 Accuracy 0.3601\n",
      "Epoch 4 Batch 600 Loss 4.0648 Accuracy 0.3623\n",
      "Epoch 4 Batch 650 Loss 4.0508 Accuracy 0.3644\n",
      "Epoch 4 Batch 700 Loss 4.0378 Accuracy 0.3662\n",
      "Epoch 4 Loss 4.0372 Accuracy 0.3663\n",
      "Time taken for 1 epoch: 30.76306676864624 secs\n",
      "\n",
      "Epoch 5 Batch 0 Loss 3.7628 Accuracy 0.3862\n",
      "Epoch 5 Batch 50 Loss 3.7014 Accuracy 0.4030\n",
      "Epoch 5 Batch 100 Loss 3.6951 Accuracy 0.4051\n",
      "Epoch 5 Batch 150 Loss 3.6715 Accuracy 0.4084\n",
      "Epoch 5 Batch 200 Loss 3.6619 Accuracy 0.4105\n",
      "Epoch 5 Batch 250 Loss 3.6462 Accuracy 0.4131\n",
      "Epoch 5 Batch 300 Loss 3.6403 Accuracy 0.4145\n",
      "Epoch 5 Batch 350 Loss 3.6238 Accuracy 0.4168\n",
      "Epoch 5 Batch 400 Loss 3.6115 Accuracy 0.4186\n",
      "Epoch 5 Batch 450 Loss 3.5990 Accuracy 0.4200\n",
      "Epoch 5 Batch 500 Loss 3.5902 Accuracy 0.4215\n",
      "Epoch 5 Batch 550 Loss 3.5806 Accuracy 0.4228\n",
      "Epoch 5 Batch 600 Loss 3.5705 Accuracy 0.4240\n",
      "Epoch 5 Batch 650 Loss 3.5612 Accuracy 0.4252\n",
      "Epoch 5 Batch 700 Loss 3.5494 Accuracy 0.4267\n",
      "Saving checkpoint for epoch 5 at ./checkpoints/train/ckpt-1\n",
      "Epoch 5 Loss 3.5493 Accuracy 0.4267\n",
      "Time taken for 1 epoch: 31.12636709213257 secs\n",
      "\n",
      "Epoch 6 Batch 0 Loss 3.2444 Accuracy 0.4605\n",
      "Epoch 6 Batch 50 Loss 3.2155 Accuracy 0.4619\n",
      "Epoch 6 Batch 100 Loss 3.2090 Accuracy 0.4631\n",
      "Epoch 6 Batch 150 Loss 3.2024 Accuracy 0.4633\n",
      "Epoch 6 Batch 200 Loss 3.1966 Accuracy 0.4648\n",
      "Epoch 6 Batch 250 Loss 3.1929 Accuracy 0.4655\n",
      "Epoch 6 Batch 300 Loss 3.1881 Accuracy 0.4664\n",
      "Epoch 6 Batch 350 Loss 3.1832 Accuracy 0.4674\n",
      "Epoch 6 Batch 400 Loss 3.1761 Accuracy 0.4685\n",
      "Epoch 6 Batch 450 Loss 3.1699 Accuracy 0.4688\n",
      "Epoch 6 Batch 500 Loss 3.1650 Accuracy 0.4696\n",
      "Epoch 6 Batch 550 Loss 3.1592 Accuracy 0.4705\n",
      "Epoch 6 Batch 600 Loss 3.1530 Accuracy 0.4717\n",
      "Epoch 6 Batch 650 Loss 3.1471 Accuracy 0.4723\n",
      "Epoch 6 Batch 700 Loss 3.1409 Accuracy 0.4731\n",
      "Epoch 6 Loss 3.1406 Accuracy 0.4731\n",
      "Time taken for 1 epoch: 30.89075517654419 secs\n",
      "\n",
      "Epoch 7 Batch 0 Loss 2.7938 Accuracy 0.5259\n",
      "Epoch 7 Batch 50 Loss 2.8191 Accuracy 0.5065\n",
      "Epoch 7 Batch 100 Loss 2.8050 Accuracy 0.5093\n",
      "Epoch 7 Batch 150 Loss 2.8151 Accuracy 0.5085\n",
      "Epoch 7 Batch 200 Loss 2.8113 Accuracy 0.5093\n",
      "Epoch 7 Batch 250 Loss 2.8064 Accuracy 0.5101\n",
      "Epoch 7 Batch 300 Loss 2.8001 Accuracy 0.5109\n",
      "Epoch 7 Batch 350 Loss 2.7923 Accuracy 0.5123\n",
      "Epoch 7 Batch 400 Loss 2.7791 Accuracy 0.5138\n",
      "Epoch 7 Batch 450 Loss 2.7733 Accuracy 0.5146\n",
      "Epoch 7 Batch 500 Loss 2.7688 Accuracy 0.5154\n",
      "Epoch 7 Batch 550 Loss 2.7602 Accuracy 0.5166\n",
      "Epoch 7 Batch 600 Loss 2.7542 Accuracy 0.5175\n",
      "Epoch 7 Batch 650 Loss 2.7497 Accuracy 0.5184\n",
      "Epoch 7 Batch 700 Loss 2.7439 Accuracy 0.5193\n",
      "Epoch 7 Loss 2.7436 Accuracy 0.5194\n",
      "Time taken for 1 epoch: 31.79271173477173 secs\n",
      "\n",
      "Epoch 8 Batch 0 Loss 2.5171 Accuracy 0.5501\n",
      "Epoch 8 Batch 50 Loss 2.4147 Accuracy 0.5562\n",
      "Epoch 8 Batch 100 Loss 2.4221 Accuracy 0.5555\n",
      "Epoch 8 Batch 150 Loss 2.4131 Accuracy 0.5580\n",
      "Epoch 8 Batch 200 Loss 2.4173 Accuracy 0.5570\n",
      "Epoch 8 Batch 250 Loss 2.4214 Accuracy 0.5569\n",
      "Epoch 8 Batch 300 Loss 2.4305 Accuracy 0.5555\n",
      "Epoch 8 Batch 350 Loss 2.4305 Accuracy 0.5555\n",
      "Epoch 8 Batch 400 Loss 2.4273 Accuracy 0.5560\n",
      "Epoch 8 Batch 450 Loss 2.4261 Accuracy 0.5563\n",
      "Epoch 8 Batch 500 Loss 2.4245 Accuracy 0.5567\n",
      "Epoch 8 Batch 550 Loss 2.4233 Accuracy 0.5572\n",
      "Epoch 8 Batch 600 Loss 2.4182 Accuracy 0.5582\n",
      "Epoch 8 Batch 650 Loss 2.4162 Accuracy 0.5585\n",
      "Epoch 8 Batch 700 Loss 2.4147 Accuracy 0.5589\n",
      "Epoch 8 Loss 2.4139 Accuracy 0.5590\n",
      "Time taken for 1 epoch: 31.114221572875977 secs\n",
      "\n",
      "Epoch 9 Batch 0 Loss 2.0796 Accuracy 0.6034\n",
      "Epoch 9 Batch 50 Loss 2.1062 Accuracy 0.5978\n",
      "Epoch 9 Batch 100 Loss 2.1268 Accuracy 0.5934\n",
      "Epoch 9 Batch 150 Loss 2.1465 Accuracy 0.5914\n",
      "Epoch 9 Batch 200 Loss 2.1525 Accuracy 0.5908\n",
      "Epoch 9 Batch 250 Loss 2.1578 Accuracy 0.5902\n",
      "Epoch 9 Batch 300 Loss 2.1590 Accuracy 0.5899\n",
      "Epoch 9 Batch 350 Loss 2.1592 Accuracy 0.5898\n",
      "Epoch 9 Batch 400 Loss 2.1598 Accuracy 0.5899\n",
      "Epoch 9 Batch 450 Loss 2.1614 Accuracy 0.5898\n",
      "Epoch 9 Batch 500 Loss 2.1632 Accuracy 0.5897\n",
      "Epoch 9 Batch 550 Loss 2.1625 Accuracy 0.5899\n",
      "Epoch 9 Batch 600 Loss 2.1655 Accuracy 0.5897\n",
      "Epoch 9 Batch 650 Loss 2.1659 Accuracy 0.5896\n",
      "Epoch 9 Batch 700 Loss 2.1671 Accuracy 0.5896\n",
      "Epoch 9 Loss 2.1671 Accuracy 0.5896\n",
      "Time taken for 1 epoch: 31.18158221244812 secs\n",
      "\n",
      "Epoch 10 Batch 0 Loss 1.8438 Accuracy 0.6431\n",
      "Epoch 10 Batch 50 Loss 1.9301 Accuracy 0.6210\n",
      "Epoch 10 Batch 100 Loss 1.9432 Accuracy 0.6182\n",
      "Epoch 10 Batch 150 Loss 1.9503 Accuracy 0.6175\n",
      "Epoch 10 Batch 200 Loss 1.9521 Accuracy 0.6180\n",
      "Epoch 10 Batch 250 Loss 1.9540 Accuracy 0.6173\n",
      "Epoch 10 Batch 300 Loss 1.9551 Accuracy 0.6174\n",
      "Epoch 10 Batch 350 Loss 1.9615 Accuracy 0.6167\n",
      "Epoch 10 Batch 400 Loss 1.9619 Accuracy 0.6165\n",
      "Epoch 10 Batch 450 Loss 1.9636 Accuracy 0.6167\n",
      "Epoch 10 Batch 500 Loss 1.9685 Accuracy 0.6160\n",
      "Epoch 10 Batch 550 Loss 1.9700 Accuracy 0.6159\n",
      "Epoch 10 Batch 600 Loss 1.9750 Accuracy 0.6153\n",
      "Epoch 10 Batch 650 Loss 1.9787 Accuracy 0.6150\n",
      "Epoch 10 Batch 700 Loss 1.9803 Accuracy 0.6147\n",
      "Saving checkpoint for epoch 10 at ./checkpoints/train/ckpt-2\n",
      "Epoch 10 Loss 1.9804 Accuracy 0.6147\n",
      "Time taken for 1 epoch: 31.05565071105957 secs\n",
      "\n",
      "Epoch 11 Batch 0 Loss 1.6855 Accuracy 0.6649\n",
      "Epoch 11 Batch 50 Loss 1.7798 Accuracy 0.6409\n",
      "Epoch 11 Batch 100 Loss 1.7849 Accuracy 0.6394\n",
      "Epoch 11 Batch 150 Loss 1.7887 Accuracy 0.6387\n",
      "Epoch 11 Batch 200 Loss 1.7986 Accuracy 0.6376\n",
      "Epoch 11 Batch 250 Loss 1.8039 Accuracy 0.6371\n",
      "Epoch 11 Batch 300 Loss 1.8087 Accuracy 0.6361\n",
      "Epoch 11 Batch 350 Loss 1.8122 Accuracy 0.6354\n",
      "Epoch 11 Batch 400 Loss 1.8157 Accuracy 0.6352\n",
      "Epoch 11 Batch 450 Loss 1.8157 Accuracy 0.6352\n",
      "Epoch 11 Batch 500 Loss 1.8214 Accuracy 0.6344\n",
      "Epoch 11 Batch 550 Loss 1.8249 Accuracy 0.6340\n",
      "Epoch 11 Batch 600 Loss 1.8275 Accuracy 0.6339\n",
      "Epoch 11 Batch 650 Loss 1.8327 Accuracy 0.6333\n",
      "Epoch 11 Batch 700 Loss 1.8357 Accuracy 0.6329\n",
      "Epoch 11 Loss 1.8357 Accuracy 0.6329\n",
      "Time taken for 1 epoch: 31.027227878570557 secs\n",
      "\n",
      "Epoch 12 Batch 0 Loss 1.6143 Accuracy 0.6664\n",
      "Epoch 12 Batch 50 Loss 1.6444 Accuracy 0.6597\n",
      "Epoch 12 Batch 100 Loss 1.6483 Accuracy 0.6591\n",
      "Epoch 12 Batch 150 Loss 1.6596 Accuracy 0.6571\n",
      "Epoch 12 Batch 200 Loss 1.6646 Accuracy 0.6567\n",
      "Epoch 12 Batch 250 Loss 1.6728 Accuracy 0.6555\n",
      "Epoch 12 Batch 300 Loss 1.6742 Accuracy 0.6554\n",
      "Epoch 12 Batch 350 Loss 1.6771 Accuracy 0.6547\n",
      "Epoch 12 Batch 400 Loss 1.6812 Accuracy 0.6543\n",
      "Epoch 12 Batch 450 Loss 1.6868 Accuracy 0.6532\n",
      "Epoch 12 Batch 500 Loss 1.6895 Accuracy 0.6529\n",
      "Epoch 12 Batch 550 Loss 1.6949 Accuracy 0.6522\n",
      "Epoch 12 Batch 600 Loss 1.7010 Accuracy 0.6515\n",
      "Epoch 12 Batch 650 Loss 1.7086 Accuracy 0.6504\n",
      "Epoch 12 Batch 700 Loss 1.7139 Accuracy 0.6499\n",
      "Epoch 12 Loss 1.7141 Accuracy 0.6499\n",
      "Time taken for 1 epoch: 30.62126898765564 secs\n",
      "\n",
      "Epoch 13 Batch 0 Loss 1.4501 Accuracy 0.6824\n",
      "Epoch 13 Batch 50 Loss 1.5419 Accuracy 0.6747\n",
      "Epoch 13 Batch 100 Loss 1.5441 Accuracy 0.6730\n",
      "Epoch 13 Batch 150 Loss 1.5583 Accuracy 0.6700\n",
      "Epoch 13 Batch 200 Loss 1.5641 Accuracy 0.6695\n",
      "Epoch 13 Batch 250 Loss 1.5682 Accuracy 0.6690\n",
      "Epoch 13 Batch 300 Loss 1.5721 Accuracy 0.6683\n",
      "Epoch 13 Batch 350 Loss 1.5766 Accuracy 0.6680\n",
      "Epoch 13 Batch 400 Loss 1.5813 Accuracy 0.6676\n",
      "Epoch 13 Batch 450 Loss 1.5896 Accuracy 0.6664\n",
      "Epoch 13 Batch 500 Loss 1.5922 Accuracy 0.6661\n",
      "Epoch 13 Batch 550 Loss 1.5978 Accuracy 0.6654\n",
      "Epoch 13 Batch 600 Loss 1.6030 Accuracy 0.6646\n",
      "Epoch 13 Batch 650 Loss 1.6082 Accuracy 0.6639\n",
      "Epoch 13 Batch 700 Loss 1.6134 Accuracy 0.6633\n",
      "Epoch 13 Loss 1.6134 Accuracy 0.6634\n",
      "Time taken for 1 epoch: 30.817842721939087 secs\n",
      "\n",
      "Epoch 14 Batch 0 Loss 1.3038 Accuracy 0.7251\n",
      "Epoch 14 Batch 50 Loss 1.4288 Accuracy 0.6897\n",
      "Epoch 14 Batch 100 Loss 1.4507 Accuracy 0.6881\n",
      "Epoch 14 Batch 150 Loss 1.4641 Accuracy 0.6851\n",
      "Epoch 14 Batch 200 Loss 1.4735 Accuracy 0.6847\n",
      "Epoch 14 Batch 250 Loss 1.4773 Accuracy 0.6839\n",
      "Epoch 14 Batch 300 Loss 1.4825 Accuracy 0.6828\n",
      "Epoch 14 Batch 350 Loss 1.4890 Accuracy 0.6819\n",
      "Epoch 14 Batch 400 Loss 1.4937 Accuracy 0.6808\n",
      "Epoch 14 Batch 450 Loss 1.4998 Accuracy 0.6798\n",
      "Epoch 14 Batch 500 Loss 1.5044 Accuracy 0.6792\n",
      "Epoch 14 Batch 550 Loss 1.5087 Accuracy 0.6785\n",
      "Epoch 14 Batch 600 Loss 1.5150 Accuracy 0.6773\n",
      "Epoch 14 Batch 650 Loss 1.5209 Accuracy 0.6766\n",
      "Epoch 14 Batch 700 Loss 1.5267 Accuracy 0.6759\n",
      "Epoch 14 Loss 1.5264 Accuracy 0.6760\n",
      "Time taken for 1 epoch: 30.76487922668457 secs\n",
      "\n",
      "Epoch 15 Batch 0 Loss 1.3602 Accuracy 0.7020\n",
      "Epoch 15 Batch 50 Loss 1.3786 Accuracy 0.6978\n",
      "Epoch 15 Batch 100 Loss 1.3675 Accuracy 0.6994\n",
      "Epoch 15 Batch 150 Loss 1.3881 Accuracy 0.6961\n",
      "Epoch 15 Batch 200 Loss 1.3986 Accuracy 0.6947\n",
      "Epoch 15 Batch 250 Loss 1.4042 Accuracy 0.6937\n",
      "Epoch 15 Batch 300 Loss 1.4095 Accuracy 0.6929\n",
      "Epoch 15 Batch 350 Loss 1.4175 Accuracy 0.6917\n",
      "Epoch 15 Batch 400 Loss 1.4202 Accuracy 0.6913\n",
      "Epoch 15 Batch 450 Loss 1.4256 Accuracy 0.6906\n",
      "Epoch 15 Batch 500 Loss 1.4271 Accuracy 0.6904\n",
      "Epoch 15 Batch 550 Loss 1.4337 Accuracy 0.6895\n",
      "Epoch 15 Batch 600 Loss 1.4401 Accuracy 0.6885\n",
      "Epoch 15 Batch 650 Loss 1.4460 Accuracy 0.6876\n",
      "Epoch 15 Batch 700 Loss 1.4515 Accuracy 0.6868\n",
      "Saving checkpoint for epoch 15 at ./checkpoints/train/ckpt-3\n",
      "Epoch 15 Loss 1.4519 Accuracy 0.6868\n",
      "Time taken for 1 epoch: 30.835017681121826 secs\n",
      "\n",
      "Epoch 16 Batch 0 Loss 1.1559 Accuracy 0.7455\n",
      "Epoch 16 Batch 50 Loss 1.2853 Accuracy 0.7131\n",
      "Epoch 16 Batch 100 Loss 1.3070 Accuracy 0.7094\n",
      "Epoch 16 Batch 150 Loss 1.3140 Accuracy 0.7080\n",
      "Epoch 16 Batch 200 Loss 1.3281 Accuracy 0.7059\n",
      "Epoch 16 Batch 250 Loss 1.3378 Accuracy 0.7040\n",
      "Epoch 16 Batch 300 Loss 1.3457 Accuracy 0.7029\n",
      "Epoch 16 Batch 350 Loss 1.3470 Accuracy 0.7029\n",
      "Epoch 16 Batch 400 Loss 1.3514 Accuracy 0.7023\n",
      "Epoch 16 Batch 450 Loss 1.3575 Accuracy 0.7011\n",
      "Epoch 16 Batch 500 Loss 1.3623 Accuracy 0.7004\n",
      "Epoch 16 Batch 550 Loss 1.3688 Accuracy 0.6993\n",
      "Epoch 16 Batch 600 Loss 1.3738 Accuracy 0.6985\n",
      "Epoch 16 Batch 650 Loss 1.3789 Accuracy 0.6978\n",
      "Epoch 16 Batch 700 Loss 1.3835 Accuracy 0.6972\n",
      "Epoch 16 Loss 1.3842 Accuracy 0.6970\n",
      "Time taken for 1 epoch: 30.86835026741028 secs\n",
      "\n",
      "Epoch 17 Batch 0 Loss 1.1976 Accuracy 0.7252\n",
      "Epoch 17 Batch 50 Loss 1.2320 Accuracy 0.7229\n",
      "Epoch 17 Batch 100 Loss 1.2459 Accuracy 0.7198\n",
      "Epoch 17 Batch 150 Loss 1.2615 Accuracy 0.7170\n",
      "Epoch 17 Batch 200 Loss 1.2671 Accuracy 0.7155\n",
      "Epoch 17 Batch 250 Loss 1.2781 Accuracy 0.7137\n",
      "Epoch 17 Batch 300 Loss 1.2837 Accuracy 0.7124\n",
      "Epoch 17 Batch 350 Loss 1.2856 Accuracy 0.7121\n",
      "Epoch 17 Batch 400 Loss 1.2926 Accuracy 0.7109\n",
      "Epoch 17 Batch 450 Loss 1.2976 Accuracy 0.7103\n",
      "Epoch 17 Batch 500 Loss 1.3044 Accuracy 0.7092\n",
      "Epoch 17 Batch 550 Loss 1.3103 Accuracy 0.7080\n",
      "Epoch 17 Batch 600 Loss 1.3158 Accuracy 0.7072\n",
      "Epoch 17 Batch 650 Loss 1.3188 Accuracy 0.7069\n",
      "Epoch 17 Batch 700 Loss 1.3237 Accuracy 0.7062\n",
      "Epoch 17 Loss 1.3240 Accuracy 0.7062\n",
      "Time taken for 1 epoch: 31.70491647720337 secs\n",
      "\n",
      "Epoch 18 Batch 0 Loss 1.3016 Accuracy 0.7197\n",
      "Epoch 18 Batch 50 Loss 1.1798 Accuracy 0.7305\n",
      "Epoch 18 Batch 100 Loss 1.1901 Accuracy 0.7291\n",
      "Epoch 18 Batch 150 Loss 1.1978 Accuracy 0.7277\n",
      "Epoch 18 Batch 200 Loss 1.2066 Accuracy 0.7257\n",
      "Epoch 18 Batch 250 Loss 1.2141 Accuracy 0.7243\n",
      "Epoch 18 Batch 300 Loss 1.2225 Accuracy 0.7227\n",
      "Epoch 18 Batch 350 Loss 1.2288 Accuracy 0.7215\n",
      "Epoch 18 Batch 400 Loss 1.2353 Accuracy 0.7203\n",
      "Epoch 18 Batch 450 Loss 1.2398 Accuracy 0.7195\n",
      "Epoch 18 Batch 500 Loss 1.2441 Accuracy 0.7186\n",
      "Epoch 18 Batch 550 Loss 1.2516 Accuracy 0.7174\n",
      "Epoch 18 Batch 600 Loss 1.2581 Accuracy 0.7164\n",
      "Epoch 18 Batch 650 Loss 1.2648 Accuracy 0.7154\n",
      "Epoch 18 Batch 700 Loss 1.2693 Accuracy 0.7148\n",
      "Epoch 18 Loss 1.2694 Accuracy 0.7148\n",
      "Time taken for 1 epoch: 30.78923749923706 secs\n",
      "\n",
      "Epoch 19 Batch 0 Loss 1.0897 Accuracy 0.7513\n",
      "Epoch 19 Batch 50 Loss 1.1161 Accuracy 0.7400\n",
      "Epoch 19 Batch 100 Loss 1.1371 Accuracy 0.7369\n",
      "Epoch 19 Batch 150 Loss 1.1537 Accuracy 0.7339\n",
      "Epoch 19 Batch 200 Loss 1.1645 Accuracy 0.7322\n",
      "Epoch 19 Batch 250 Loss 1.1728 Accuracy 0.7307\n",
      "Epoch 19 Batch 300 Loss 1.1812 Accuracy 0.7293\n",
      "Epoch 19 Batch 350 Loss 1.1851 Accuracy 0.7283\n",
      "Epoch 19 Batch 400 Loss 1.1890 Accuracy 0.7277\n",
      "Epoch 19 Batch 450 Loss 1.1922 Accuracy 0.7273\n",
      "Epoch 19 Batch 500 Loss 1.1964 Accuracy 0.7265\n",
      "Epoch 19 Batch 550 Loss 1.2038 Accuracy 0.7251\n",
      "Epoch 19 Batch 600 Loss 1.2107 Accuracy 0.7238\n",
      "Epoch 19 Batch 650 Loss 1.2152 Accuracy 0.7232\n",
      "Epoch 19 Batch 700 Loss 1.2193 Accuracy 0.7224\n",
      "Epoch 19 Loss 1.2199 Accuracy 0.7223\n",
      "Time taken for 1 epoch: 31.050918340682983 secs\n",
      "\n",
      "Epoch 20 Batch 0 Loss 1.0248 Accuracy 0.7491\n",
      "Epoch 20 Batch 50 Loss 1.1020 Accuracy 0.7435\n",
      "Epoch 20 Batch 100 Loss 1.1042 Accuracy 0.7420\n",
      "Epoch 20 Batch 150 Loss 1.1102 Accuracy 0.7407\n",
      "Epoch 20 Batch 200 Loss 1.1199 Accuracy 0.7385\n",
      "Epoch 20 Batch 250 Loss 1.1271 Accuracy 0.7371\n",
      "Epoch 20 Batch 300 Loss 1.1352 Accuracy 0.7358\n",
      "Epoch 20 Batch 350 Loss 1.1401 Accuracy 0.7349\n",
      "Epoch 20 Batch 400 Loss 1.1419 Accuracy 0.7348\n",
      "Epoch 20 Batch 450 Loss 1.1476 Accuracy 0.7338\n",
      "Epoch 20 Batch 500 Loss 1.1544 Accuracy 0.7325\n",
      "Epoch 20 Batch 550 Loss 1.1585 Accuracy 0.7320\n",
      "Epoch 20 Batch 600 Loss 1.1650 Accuracy 0.7309\n",
      "Epoch 20 Batch 650 Loss 1.1699 Accuracy 0.7301\n",
      "Epoch 20 Batch 700 Loss 1.1764 Accuracy 0.7291\n",
      "Saving checkpoint for epoch 20 at ./checkpoints/train/ckpt-4\n",
      "Epoch 20 Loss 1.1765 Accuracy 0.7290\n",
      "Time taken for 1 epoch: 30.766892671585083 secs\n",
      "\n"
     ]
    }
   ],
   "source": [
    "for epoch in range(EPOCHS):\n",
    "  start = time.time()\n",
    "  \n",
    "  train_loss.reset_states()\n",
    "  train_accuracy.reset_states()\n",
    "  \n",
    "  # inp -> portuguese, tar -> english\n",
    "  for (batch, (inp, tar)) in enumerate(train_dataset):\n",
    "    train_step(inp, tar)\n",
    "    \n",
    "    if batch % 50 == 0:\n",
    "      print ('Epoch {} Batch {} Loss {:.4f} Accuracy {:.4f}'.format(\n",
    "          epoch + 1, batch, train_loss.result(), train_accuracy.result()))\n",
    "      \n",
    "  if (epoch + 1) % 5 == 0:\n",
    "    ckpt_save_path = ckpt_manager.save()\n",
    "    print ('Saving checkpoint for epoch {} at {}'.format(epoch+1,\n",
    "                                                         ckpt_save_path))\n",
    "    \n",
    "  print ('Epoch {} Loss {:.4f} Accuracy {:.4f}'.format(epoch + 1, \n",
    "                                                train_loss.result(), \n",
    "                                                train_accuracy.result()))\n",
    "\n",
    "  print ('Time taken for 1 epoch: {} secs\\n'.format(time.time() - start))"
   ]
  },
  {
   "cell_type": "markdown",
   "metadata": {
    "id": "QfcsSWswSdGV"
   },
   "source": [
    "## Evaluate"
   ]
  },
  {
   "cell_type": "markdown",
   "metadata": {
    "id": "y6APsFrgImLW"
   },
   "source": [
    "The following steps are used for evaluation:\n",
    "\n",
    "* Encode the input sentence using the Portuguese tokenizer (`tokenizer_pt`). Moreover, add the start and end token so the input is equivalent to what the model is trained with. This is the encoder input.\n",
    "* The decoder input is the `start token == tokenizer_en.vocab_size`.\n",
    "* Calculate the padding masks and the look ahead masks.\n",
    "* The `decoder` then outputs the predictions by looking at the `encoder output` and its own output (self-attention).\n",
    "* Select the last word and calculate the argmax of that.\n",
    "* Concatentate the predicted word to the decoder input as pass it to the decoder.\n",
    "* In this approach, the decoder predicts the next word based on the previous words it predicted.\n",
    "\n",
    "Note: The model used here has less capacity to keep the example relatively faster so the predictions maybe less right. To reproduce the results in the paper, use the entire dataset and base transformer model or transformer XL, by changing the hyperparameters above."
   ]
  },
  {
   "cell_type": "code",
   "execution_count": 55,
   "metadata": {
    "execution": {
     "iopub.execute_input": "2021-01-08T06:21:08.171405Z",
     "iopub.status.busy": "2021-01-08T06:21:08.170518Z",
     "iopub.status.idle": "2021-01-08T06:21:08.172899Z",
     "shell.execute_reply": "2021-01-08T06:21:08.172443Z"
    },
    "id": "5buvMlnvyrFm"
   },
   "outputs": [],
   "source": [
    "def evaluate(inp_sentence):\n",
    "  start_token = [tokenizer_pt.vocab_size]\n",
    "  end_token = [tokenizer_pt.vocab_size + 1]\n",
    "  \n",
    "  # inp sentence is portuguese, hence adding the start and end token\n",
    "  inp_sentence = start_token + tokenizer_pt.encode(inp_sentence) + end_token\n",
    "  encoder_input = tf.expand_dims(inp_sentence, 0)\n",
    "  \n",
    "  # as the target is english, the first word to the transformer should be the\n",
    "  # english start token.\n",
    "  decoder_input = [tokenizer_en.vocab_size]\n",
    "  output = tf.expand_dims(decoder_input, 0)\n",
    "    \n",
    "  for i in range(MAX_LENGTH):\n",
    "    enc_padding_mask, combined_mask, dec_padding_mask = create_masks(\n",
    "        encoder_input, output)\n",
    "  \n",
    "    # predictions.shape == (batch_size, seq_len, vocab_size)\n",
    "    predictions, attention_weights = transformer(encoder_input, \n",
    "                                                 output,\n",
    "                                                 False,\n",
    "                                                 enc_padding_mask,\n",
    "                                                 combined_mask,\n",
    "                                                 dec_padding_mask)\n",
    "    \n",
    "    # select the last word from the seq_len dimension\n",
    "    predictions = predictions[: ,-1:, :]  # (batch_size, 1, vocab_size)\n",
    "\n",
    "    predicted_id = tf.cast(tf.argmax(predictions, axis=-1), tf.int32)\n",
    "    \n",
    "    # return the result if the predicted_id is equal to the end token\n",
    "    if predicted_id == tokenizer_en.vocab_size+1:\n",
    "      return tf.squeeze(output, axis=0), attention_weights\n",
    "    \n",
    "    # concatentate the predicted_id to the output which is given to the decoder\n",
    "    # as its input.\n",
    "    output = tf.concat([output, predicted_id], axis=-1)\n",
    "\n",
    "  return tf.squeeze(output, axis=0), attention_weights"
   ]
  },
  {
   "cell_type": "code",
   "execution_count": 56,
   "metadata": {
    "execution": {
     "iopub.execute_input": "2021-01-08T06:21:08.180529Z",
     "iopub.status.busy": "2021-01-08T06:21:08.179728Z",
     "iopub.status.idle": "2021-01-08T06:21:08.181979Z",
     "shell.execute_reply": "2021-01-08T06:21:08.181554Z"
    },
    "id": "CN-BV43FMBej"
   },
   "outputs": [],
   "source": [
    "def plot_attention_weights(attention, sentence, result, layer):\n",
    "  fig = plt.figure(figsize=(16, 8))\n",
    "  \n",
    "  sentence = tokenizer_pt.encode(sentence)\n",
    "  \n",
    "  attention = tf.squeeze(attention[layer], axis=0)\n",
    "  \n",
    "  for head in range(attention.shape[0]):\n",
    "    ax = fig.add_subplot(2, 4, head+1)\n",
    "    \n",
    "    # plot the attention weights\n",
    "    ax.matshow(attention[head][:-1, :], cmap='viridis')\n",
    "\n",
    "    fontdict = {'fontsize': 10}\n",
    "    \n",
    "    ax.set_xticks(range(len(sentence)+2))\n",
    "    ax.set_yticks(range(len(result)))\n",
    "    \n",
    "    ax.set_ylim(len(result)-1.5, -0.5)\n",
    "        \n",
    "    ax.set_xticklabels(\n",
    "        ['<start>']+[tokenizer_pt.decode([i]) for i in sentence]+['<end>'], \n",
    "        fontdict=fontdict, rotation=90)\n",
    "    \n",
    "    ax.set_yticklabels([tokenizer_en.decode([i]) for i in result \n",
    "                        if i < tokenizer_en.vocab_size], \n",
    "                       fontdict=fontdict)\n",
    "    \n",
    "    ax.set_xlabel('Head {}'.format(head+1))\n",
    "  \n",
    "  plt.tight_layout()\n",
    "  plt.show()"
   ]
  },
  {
   "cell_type": "code",
   "execution_count": 57,
   "metadata": {
    "execution": {
     "iopub.execute_input": "2021-01-08T06:21:08.186861Z",
     "iopub.status.busy": "2021-01-08T06:21:08.186040Z",
     "iopub.status.idle": "2021-01-08T06:21:08.188352Z",
     "shell.execute_reply": "2021-01-08T06:21:08.187946Z"
    },
    "id": "lU2_yG_vBGza"
   },
   "outputs": [],
   "source": [
    "def translate(sentence, plot=''):\n",
    "  result, attention_weights = evaluate(sentence)\n",
    "  \n",
    "  predicted_sentence = tokenizer_en.decode([i for i in result \n",
    "                                            if i < tokenizer_en.vocab_size])  \n",
    "\n",
    "  print('Input: {}'.format(sentence))\n",
    "  print('Predicted translation: {}'.format(predicted_sentence))\n",
    "  \n",
    "  if plot:\n",
    "    plot_attention_weights(attention_weights, sentence, result, plot)"
   ]
  },
  {
   "cell_type": "code",
   "execution_count": 58,
   "metadata": {
    "execution": {
     "iopub.execute_input": "2021-01-08T06:21:08.192320Z",
     "iopub.status.busy": "2021-01-08T06:21:08.191426Z",
     "iopub.status.idle": "2021-01-08T06:21:09.244598Z",
     "shell.execute_reply": "2021-01-08T06:21:09.245032Z"
    },
    "id": "YsxrAlvFG8SZ"
   },
   "outputs": [
    {
     "name": "stdout",
     "output_type": "stream",
     "text": [
      "Input: este é um problema que temos que resolver.\n",
      "Predicted translation: this is a problem that we have to solve one .\n",
      "Real translation: this is a problem we have to solve .\n"
     ]
    }
   ],
   "source": [
    "translate(\"este é um problema que temos que resolver.\")\n",
    "print (\"Real translation: this is a problem we have to solve .\")"
   ]
  },
  {
   "cell_type": "code",
   "execution_count": 59,
   "metadata": {
    "execution": {
     "iopub.execute_input": "2021-01-08T06:21:09.249785Z",
     "iopub.status.busy": "2021-01-08T06:21:09.248763Z",
     "iopub.status.idle": "2021-01-08T06:21:10.052091Z",
     "shell.execute_reply": "2021-01-08T06:21:10.052442Z"
    },
    "id": "7EH5y_aqI4t1"
   },
   "outputs": [
    {
     "name": "stdout",
     "output_type": "stream",
     "text": [
      "Input: os meus vizinhos ouviram sobre esta ideia.\n",
      "Predicted translation: my neighbors heard about this idea .\n",
      "Real translation: and my neighboring homes heard about this idea .\n"
     ]
    }
   ],
   "source": [
    "translate(\"os meus vizinhos ouviram sobre esta ideia.\")\n",
    "print (\"Real translation: and my neighboring homes heard about this idea .\")"
   ]
  },
  {
   "cell_type": "code",
   "execution_count": 60,
   "metadata": {
    "execution": {
     "iopub.execute_input": "2021-01-08T06:21:10.056363Z",
     "iopub.status.busy": "2021-01-08T06:21:10.055715Z",
     "iopub.status.idle": "2021-01-08T06:21:11.839969Z",
     "shell.execute_reply": "2021-01-08T06:21:11.840372Z"
    },
    "id": "J-hVCTSUMlkb"
   },
   "outputs": [
    {
     "name": "stdout",
     "output_type": "stream",
     "text": [
      "Input: vou então muito rapidamente partilhar convosco algumas histórias de algumas coisas mágicas que aconteceram.\n",
      "Predicted translation: so i 'm going to really quickly share with you some magic stories that happened to happen .\n",
      "Real translation: so i 'll just share with you some stories very quickly of some magical things that have happened .\n"
     ]
    }
   ],
   "source": [
    "translate(\"vou então muito rapidamente partilhar convosco algumas histórias de algumas coisas mágicas que aconteceram.\")\n",
    "print (\"Real translation: so i 'll just share with you some stories very quickly of some magical things that have happened .\")"
   ]
  },
  {
   "cell_type": "markdown",
   "metadata": {
    "id": "_1MxkSZvz0jX"
   },
   "source": [
    "You can pass different layers and attention blocks of the decoder to the `plot` parameter."
   ]
  },
  {
   "cell_type": "code",
   "execution_count": 61,
   "metadata": {
    "execution": {
     "iopub.execute_input": "2021-01-08T06:21:11.844478Z",
     "iopub.status.busy": "2021-01-08T06:21:11.843905Z",
     "iopub.status.idle": "2021-01-08T06:21:13.396345Z",
     "shell.execute_reply": "2021-01-08T06:21:13.396719Z"
    },
    "id": "t-kFyiOLH0xg"
   },
   "outputs": [
    {
     "name": "stdout",
     "output_type": "stream",
     "text": [
      "Input: este é o primeiro livro que eu fiz.\n",
      "Predicted translation: this is the first book i made .\n"
     ]
    },
    {
     "data": {
      "image/png": "[encoded data removed]",
      "text/plain": [
       "<Figure size 1152x576 with 8 Axes>"
      ]
     },
     "metadata": {
      "needs_background": "light"
     },
     "output_type": "display_data"
    },
    {
     "name": "stdout",
     "output_type": "stream",
     "text": [
      "Real translation: this is the first book i've ever done.\n"
     ]
    }
   ],
   "source": [
    "translate(\"este é o primeiro livro que eu fiz.\", plot='decoder_layer4_block2')\n",
    "print (\"Real translation: this is the first book i've ever done.\")"
   ]
  },
  {
   "cell_type": "markdown",
   "metadata": {
    "id": "RqQ1fIsLwkGE"
   },
   "source": [
    "## Summary\n",
    "\n",
    "In this tutorial, you learned about positional encoding, multi-head attention, the importance of masking and how to create a transformer.\n",
    "\n",
    "Try using a different dataset to train the transformer. You can also create the base transformer or transformer XL by changing the hyperparameters above. You can also use the layers defined here to create [BERT](https://arxiv.org/abs/1810.04805) and train state of the art models. Futhermore, you can implement beam search to get better predictions."
   ]
  }
 ],
 "metadata": {
  "accelerator": "GPU",
  "colab": {
   "collapsed_sections": [
    "s_qNSzzyaCbD"
   ],
   "name": "transformer.ipynb",
   "toc_visible": true
  },
  "kernelspec": {
   "display_name": "Python 3",
   "language": "python",
   "name": "python3"
  },
  "language_info": {
   "codemirror_mode": {
    "name": "ipython",
    "version": 3
   },
   "file_extension": ".py",
   "mimetype": "text/x-python",
   "name": "python",
   "nbconvert_exporter": "python",
   "pygments_lexer": "ipython3",
   "version": "3.7.6"
  }
 },
 "nbformat": 4,
 "nbformat_minor": 4
}
