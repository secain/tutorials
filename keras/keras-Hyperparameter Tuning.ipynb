{
 "cells": [
  {
   "cell_type": "code",
   "execution_count": 1,
   "metadata": {},
   "outputs": [],
   "source": [
    "# Python ≥3.5 is required\n",
    "import sys\n",
    "assert sys.version_info >= (3, 5)\n",
    "\n",
    "# Scikit-Learn ≥0.20 is required\n",
    "import sklearn\n",
    "assert sklearn.__version__ >= \"0.20\"\n",
    "\n",
    "# TensorFlow ≥2.0 is required\n",
    "import tensorflow as tf\n",
    "assert tf.__version__ >= \"2.0\"\n",
    "\n",
    "# Common imports\n",
    "import numpy as np\n",
    "import os\n",
    "\n",
    "# Ignore useless warnings (see SciPy issue #5998)\n",
    "import warnings\n",
    "warnings.filterwarnings(action=\"ignore\", message=\"^internal gelsd\")"
   ]
  },
  {
   "cell_type": "code",
   "execution_count": 2,
   "metadata": {},
   "outputs": [],
   "source": [
    "from sklearn.datasets import fetch_california_housing\n",
    "from sklearn.model_selection import train_test_split\n",
    "from sklearn.preprocessing import StandardScaler\n",
    "\n",
    "housing = fetch_california_housing()\n",
    "\n",
    "X_train_full, X_test, y_train_full, y_test = train_test_split(housing.data, housing.target, random_state=42)\n",
    "X_train, X_valid, y_train, y_valid = train_test_split(X_train_full, y_train_full, random_state=42)\n",
    "\n",
    "scaler = StandardScaler()\n",
    "X_train = scaler.fit_transform(X_train)\n",
    "X_valid = scaler.transform(X_valid)\n",
    "X_test = scaler.transform(X_test)"
   ]
  },
  {
   "cell_type": "code",
   "execution_count": 3,
   "metadata": {},
   "outputs": [],
   "source": [
    "from tensorflow import keras\n",
    "keras.backend.clear_session()\n",
    "np.random.seed(42)\n",
    "tf.random.set_seed(42)"
   ]
  },
  {
   "cell_type": "code",
   "execution_count": 4,
   "metadata": {},
   "outputs": [],
   "source": [
    "def build_model(n_hidden=1, n_neurons=30, learning_rate=3e-3, input_shape=[8]):\n",
    "    model = keras.models.Sequential()\n",
    "    model.add(keras.layers.InputLayer(input_shape=input_shape))\n",
    "    for layer in range(n_hidden):\n",
    "        model.add(keras.layers.Dense(n_neurons, activation=\"relu\"))\n",
    "    model.add(keras.layers.Dense(1))\n",
    "    optimizer = keras.optimizers.SGD(lr=learning_rate)\n",
    "    model.compile(loss=\"mse\", optimizer=optimizer)\n",
    "    return model"
   ]
  },
  {
   "cell_type": "code",
   "execution_count": 5,
   "metadata": {},
   "outputs": [],
   "source": [
    "keras_reg = keras.wrappers.scikit_learn.KerasRegressor(build_model)"
   ]
  },
  {
   "cell_type": "code",
   "execution_count": 6,
   "metadata": {},
   "outputs": [
    {
     "name": "stdout",
     "output_type": "stream",
     "text": [
      "Epoch 1/10\n",
      "  1/363 [..............................] - ETA: 0s - loss: 3.7219WARNING:tensorflow:Callbacks method `on_train_batch_begin` is slow compared to the batch time (batch time: 0.0000s vs `on_train_batch_begin` time: 0.0010s). Check your callbacks.\n",
      "363/363 [==============================] - 0s 1ms/step - loss: 1.0896 - val_loss: 20.7721\n",
      "Epoch 2/10\n",
      "363/363 [==============================] - 0s 837us/step - loss: 0.7606 - val_loss: 5.0266\n",
      "Epoch 3/10\n",
      "363/363 [==============================] - 0s 804us/step - loss: 0.5456 - val_loss: 0.5490\n",
      "Epoch 4/10\n",
      "363/363 [==============================] - 0s 804us/step - loss: 0.4732 - val_loss: 0.4529\n",
      "Epoch 5/10\n",
      "363/363 [==============================] - 0s 785us/step - loss: 0.4503 - val_loss: 0.4188\n",
      "Epoch 6/10\n",
      "363/363 [==============================] - 0s 807us/step - loss: 0.4338 - val_loss: 0.4129\n",
      "Epoch 7/10\n",
      "363/363 [==============================] - 0s 791us/step - loss: 0.4241 - val_loss: 0.4004\n",
      "Epoch 8/10\n",
      "363/363 [==============================] - 0s 835us/step - loss: 0.4168 - val_loss: 0.3944\n",
      "Epoch 9/10\n",
      "363/363 [==============================] - 0s 793us/step - loss: 0.4108 - val_loss: 0.3961\n",
      "Epoch 10/10\n",
      "363/363 [==============================] - 0s 815us/step - loss: 0.4060 - val_loss: 0.4071\n"
     ]
    },
    {
     "data": {
      "text/plain": [
       "<tensorflow.python.keras.callbacks.History at 0x22beeb91748>"
      ]
     },
     "execution_count": 6,
     "metadata": {},
     "output_type": "execute_result"
    }
   ],
   "source": [
    "keras_reg.fit(X_train, y_train, epochs=10, verbose=1, \n",
    "              validation_data=(X_valid, y_valid),\n",
    "              callbacks=[keras.callbacks.EarlyStopping(patience=10)])"
   ]
  },
  {
   "cell_type": "code",
   "execution_count": 9,
   "metadata": {},
   "outputs": [
    {
     "name": "stdout",
     "output_type": "stream",
     "text": [
      "162/162 [==============================] - 0s 519us/step - loss: 0.3998\n"
     ]
    },
    {
     "data": {
      "text/plain": [
       "-0.3998211622238159"
      ]
     },
     "execution_count": 9,
     "metadata": {},
     "output_type": "execute_result"
    }
   ],
   "source": [
    "mse_test = keras_reg.score(X_test, y_test)\n",
    "mse_test"
   ]
  },
  {
   "cell_type": "code",
   "execution_count": 8,
   "metadata": {},
   "outputs": [],
   "source": [
    "y_pred = keras_reg.predict(X_test)"
   ]
  },
  {
   "cell_type": "code",
   "execution_count": 9,
   "metadata": {},
   "outputs": [],
   "source": [
    "np.random.seed(42)\n",
    "tf.random.set_seed(42)"
   ]
  },
  {
   "cell_type": "code",
   "execution_count": 10,
   "metadata": {},
   "outputs": [
    {
     "name": "stdout",
     "output_type": "stream",
     "text": [
      "Fitting 3 folds for each of 10 candidates, totalling 30 fits\n",
      "[CV] learning_rate=0.001683454924600351, n_hidden=0, n_neurons=15 ....\n",
      "Epoch 1/5\n"
     ]
    },
    {
     "name": "stderr",
     "output_type": "stream",
     "text": [
      "[Parallel(n_jobs=1)]: Using backend SequentialBackend with 1 concurrent workers.\n"
     ]
    },
    {
     "name": "stdout",
     "output_type": "stream",
     "text": [
      "  1/242 [..............................] - ETA: 0s - loss: 8.5773WARNING:tensorflow:Callbacks method `on_train_batch_end` is slow compared to the batch time (batch time: 0.0000s vs `on_train_batch_end` time: 0.0010s). Check your callbacks.\n",
      "242/242 [==============================] - 0s 1ms/step - loss: 3.3071 - val_loss: 1.3735\n",
      "Epoch 2/5\n",
      "242/242 [==============================] - 0s 884us/step - loss: 0.9782 - val_loss: 0.6881\n",
      "Epoch 3/5\n",
      "242/242 [==============================] - 0s 839us/step - loss: 0.6186 - val_loss: 0.5887\n",
      "Epoch 4/5\n",
      "242/242 [==============================] - 0s 843us/step - loss: 0.5504 - val_loss: 0.5466\n",
      "Epoch 5/5\n",
      "242/242 [==============================] - 0s 822us/step - loss: 0.5363 - val_loss: 0.5360\n",
      "  2/121 [..............................] - ETA: 3s - loss: 0.5846WARNING:tensorflow:Callbacks method `on_test_batch_end` is slow compared to the batch time (batch time: 0.0000s vs `on_test_batch_end` time: 0.0010s). Check your callbacks.\n",
      "121/121 [==============================] - 0s 1ms/step - loss: 0.5399\n",
      "[CV]  learning_rate=0.001683454924600351, n_hidden=0, n_neurons=15, total=   1.4s\n",
      "[CV] learning_rate=0.001683454924600351, n_hidden=0, n_neurons=15 ....\n",
      "Epoch 1/5\n",
      "  1/242 [..............................] - ETA: 0s - loss: 5.5857"
     ]
    },
    {
     "name": "stderr",
     "output_type": "stream",
     "text": [
      "[Parallel(n_jobs=1)]: Done   1 out of   1 | elapsed:    1.4s remaining:    0.0s\n"
     ]
    },
    {
     "name": "stdout",
     "output_type": "stream",
     "text": [
      "WARNING:tensorflow:Callbacks method `on_train_batch_end` is slow compared to the batch time (batch time: 0.0000s vs `on_train_batch_end` time: 0.0010s). Check your callbacks.\n",
      "242/242 [==============================] - 0s 1ms/step - loss: 3.1141 - val_loss: 4.8527\n",
      "Epoch 2/5\n",
      "242/242 [==============================] - 0s 843us/step - loss: 1.1858 - val_loss: 5.7781\n",
      "Epoch 3/5\n",
      "242/242 [==============================] - 0s 839us/step - loss: 0.7680 - val_loss: 7.3954\n",
      "Epoch 4/5\n",
      "242/242 [==============================] - 0s 847us/step - loss: 0.6629 - val_loss: 9.0480\n",
      "Epoch 5/5\n",
      "242/242 [==============================] - 0s 851us/step - loss: 0.6262 - val_loss: 10.6619\n",
      "  1/121 [..............................] - ETA: 0s - loss: 0.3083WARNING:tensorflow:Callbacks method `on_test_batch_end` is slow compared to the batch time (batch time: 0.0000s vs `on_test_batch_end` time: 0.0010s). Check your callbacks.\n",
      "121/121 [==============================] - 0s 570us/step - loss: 0.8604\n",
      "[CV]  learning_rate=0.001683454924600351, n_hidden=0, n_neurons=15, total=   1.4s\n",
      "[CV] learning_rate=0.001683454924600351, n_hidden=0, n_neurons=15 ....\n",
      "Epoch 1/5\n",
      "242/242 [==============================] - 0s 1ms/step - loss: 3.3292 - val_loss: 1.4882\n",
      "Epoch 2/5\n",
      "242/242 [==============================] - 0s 938us/step - loss: 1.0465 - val_loss: 0.7937\n",
      "Epoch 3/5\n",
      "242/242 [==============================] - 0s 843us/step - loss: 0.6751 - val_loss: 0.6177\n",
      "Epoch 4/5\n",
      "242/242 [==============================] - 0s 868us/step - loss: 0.5987 - val_loss: 0.8254\n",
      "Epoch 5/5\n",
      "242/242 [==============================] - 0s 835us/step - loss: 0.5830 - val_loss: 0.5377\n",
      "121/121 [==============================] - 0s 562us/step - loss: 0.5738\n",
      "[CV]  learning_rate=0.001683454924600351, n_hidden=0, n_neurons=15, total=   1.4s\n",
      "[CV] learning_rate=0.008731907739399206, n_hidden=0, n_neurons=21 ....\n",
      "Epoch 1/5\n",
      "242/242 [==============================] - 0s 1ms/step - loss: 1.5376 - val_loss: 12.3982\n",
      "Epoch 2/5\n",
      "242/242 [==============================] - 0s 876us/step - loss: 1.0178 - val_loss: 125.6316\n",
      "Epoch 3/5\n",
      "242/242 [==============================] - 0s 897us/step - loss: 1.1488 - val_loss: 346.5436\n",
      "Epoch 4/5\n",
      "242/242 [==============================] - 0s 876us/step - loss: 3.6725 - val_loss: 1751.6010\n",
      "Epoch 5/5\n",
      "242/242 [==============================] - 0s 872us/step - loss: 10.3581 - val_loss: 6041.1792\n",
      "121/121 [==============================] - 0s 512us/step - loss: 15.3278\n",
      "[CV]  learning_rate=0.008731907739399206, n_hidden=0, n_neurons=21, total=   1.4s\n",
      "[CV] learning_rate=0.008731907739399206, n_hidden=0, n_neurons=21 ....\n",
      "Epoch 1/5\n",
      "242/242 [==============================] - 0s 1ms/step - loss: 1.4335 - val_loss: 4.8167\n",
      "Epoch 2/5\n",
      "242/242 [==============================] - 0s 868us/step - loss: 0.5960 - val_loss: 14.1333\n",
      "Epoch 3/5\n",
      "242/242 [==============================] - 0s 868us/step - loss: 0.5457 - val_loss: 20.4455\n",
      "Epoch 4/5\n",
      "242/242 [==============================] - 0s 880us/step - loss: 0.5249 - val_loss: 21.9033\n",
      "Epoch 5/5\n",
      "242/242 [==============================] - 0s 880us/step - loss: 0.5142 - val_loss: 22.1810\n",
      "121/121 [==============================] - 0s 562us/step - loss: 1.0393\n",
      "[CV]  learning_rate=0.008731907739399206, n_hidden=0, n_neurons=21, total=   1.4s\n",
      "[CV] learning_rate=0.008731907739399206, n_hidden=0, n_neurons=21 ....\n",
      "Epoch 1/5\n",
      "242/242 [==============================] - 0s 1ms/step - loss: 1.7711 - val_loss: 187.7519\n",
      "Epoch 2/5\n",
      "242/242 [==============================] - 0s 868us/step - loss: 1.4834 - val_loss: 263.9901\n",
      "Epoch 3/5\n",
      "242/242 [==============================] - 0s 921us/step - loss: 2.1547 - val_loss: 822.8330\n",
      "Epoch 4/5\n",
      "242/242 [==============================] - 0s 893us/step - loss: 19.9118 - val_loss: 1671.0671\n",
      "Epoch 5/5\n",
      "242/242 [==============================] - 0s 839us/step - loss: 5.4077 - val_loss: 4295.0537\n",
      "121/121 [==============================] - 0s 512us/step - loss: 7.0626\n",
      "[CV]  learning_rate=0.008731907739399206, n_hidden=0, n_neurons=21, total=   1.4s\n",
      "[CV] learning_rate=0.0006154014789262348, n_hidden=2, n_neurons=87 ...\n",
      "Epoch 1/5\n",
      "242/242 [==============================] - 0s 1ms/step - loss: 2.9937 - val_loss: 2.6699\n",
      "Epoch 2/5\n",
      "242/242 [==============================] - 0s 1ms/step - loss: 1.0723 - val_loss: 0.9824\n",
      "Epoch 3/5\n",
      "242/242 [==============================] - 0s 1ms/step - loss: 0.8178 - val_loss: 0.7381\n",
      "Epoch 4/5\n",
      "242/242 [==============================] - 0s 1ms/step - loss: 0.7416 - val_loss: 0.6810\n",
      "Epoch 5/5\n",
      "242/242 [==============================] - 0s 1ms/step - loss: 0.7010 - val_loss: 0.6511\n",
      "121/121 [==============================] - 0s 554us/step - loss: 0.6797\n",
      "[CV]  learning_rate=0.0006154014789262348, n_hidden=2, n_neurons=87, total=   1.7s\n",
      "[CV] learning_rate=0.0006154014789262348, n_hidden=2, n_neurons=87 ...\n",
      "Epoch 1/5\n",
      "242/242 [==============================] - 0s 1ms/step - loss: 2.5809 - val_loss: 4.4401\n",
      "Epoch 2/5\n",
      "242/242 [==============================] - 0s 1ms/step - loss: 0.9454 - val_loss: 5.4218\n",
      "Epoch 3/5\n",
      "242/242 [==============================] - 0s 1ms/step - loss: 0.7935 - val_loss: 4.0185\n",
      "Epoch 4/5\n",
      "242/242 [==============================] - 0s 1ms/step - loss: 0.7312 - val_loss: 2.8357\n",
      "Epoch 5/5\n",
      "242/242 [==============================] - 0s 1ms/step - loss: 0.6912 - val_loss: 2.0552\n",
      "121/121 [==============================] - 0s 612us/step - loss: 0.7186\n",
      "[CV]  learning_rate=0.0006154014789262348, n_hidden=2, n_neurons=87, total=   1.7s\n",
      "[CV] learning_rate=0.0006154014789262348, n_hidden=2, n_neurons=87 ...\n",
      "Epoch 1/5\n",
      "192/242 [======================>.......] - ETA: 0s - loss: 3.2091WARNING:tensorflow:Callbacks method `on_test_batch_end` is slow compared to the batch time (batch time: 0.0000s vs `on_test_batch_end` time: 0.0010s). Check your callbacks.\n",
      "242/242 [==============================] - 0s 1ms/step - loss: 2.8794 - val_loss: 1.5758\n",
      "Epoch 2/5\n",
      "242/242 [==============================] - 0s 1ms/step - loss: 1.0443 - val_loss: 0.9371\n",
      "Epoch 3/5\n",
      "242/242 [==============================] - 0s 1ms/step - loss: 0.7631 - val_loss: 0.6947\n",
      "Epoch 4/5\n",
      "242/242 [==============================] - 0s 1ms/step - loss: 0.6827 - val_loss: 0.6333\n",
      "Epoch 5/5\n",
      "242/242 [==============================] - 0s 1ms/step - loss: 0.6429 - val_loss: 0.5996\n",
      "121/121 [==============================] - 0s 521us/step - loss: 0.6278\n",
      "[CV]  learning_rate=0.0006154014789262348, n_hidden=2, n_neurons=87, total=   1.7s\n",
      "[CV] learning_rate=0.0003920021771415983, n_hidden=3, n_neurons=24 ...\n",
      "Epoch 1/5\n",
      "242/242 [==============================] - 0s 1ms/step - loss: 3.4993 - val_loss: 5.2742\n",
      "Epoch 2/5\n",
      "242/242 [==============================] - 0s 1ms/step - loss: 1.9157 - val_loss: 3.5068\n",
      "Epoch 3/5\n",
      "242/242 [==============================] - 0s 1ms/step - loss: 1.4624 - val_loss: 2.2045\n",
      "Epoch 4/5\n",
      "242/242 [==============================] - 0s 991us/step - loss: 1.2083 - val_loss: 1.4230\n",
      "Epoch 5/5\n",
      "242/242 [==============================] - 0s 1ms/step - loss: 1.0354 - val_loss: 1.0240\n",
      "121/121 [==============================] - 0s 579us/step - loss: 0.9614\n",
      "[CV]  learning_rate=0.0003920021771415983, n_hidden=3, n_neurons=24, total=   1.7s\n",
      "[CV] learning_rate=0.0003920021771415983, n_hidden=3, n_neurons=24 ...\n",
      "Epoch 1/5\n",
      "242/242 [==============================] - 0s 1ms/step - loss: 3.7226 - val_loss: 3.0222\n",
      "Epoch 2/5\n",
      "242/242 [==============================] - 0s 992us/step - loss: 1.7654 - val_loss: 3.0863\n",
      "Epoch 3/5\n",
      "242/242 [==============================] - 0s 1000us/step - loss: 1.1962 - val_loss: 2.6857\n",
      "Epoch 4/5\n",
      "242/242 [==============================] - 0s 1000us/step - loss: 0.9624 - val_loss: 2.1041\n",
      "Epoch 5/5\n",
      "242/242 [==============================] - 0s 1ms/step - loss: 0.8177 - val_loss: 1.5895\n",
      "121/121 [==============================] - 0s 570us/step - loss: 0.7958\n",
      "[CV]  learning_rate=0.0003920021771415983, n_hidden=3, n_neurons=24, total=   1.6s\n",
      "[CV] learning_rate=0.0003920021771415983, n_hidden=3, n_neurons=24 ...\n",
      "Epoch 1/5\n",
      "242/242 [==============================] - 0s 1ms/step - loss: 3.2237 - val_loss: 3.8663\n",
      "Epoch 2/5\n",
      "242/242 [==============================] - 0s 1ms/step - loss: 1.2579 - val_loss: 3.1985\n",
      "Epoch 3/5\n",
      "242/242 [==============================] - 0s 975us/step - loss: 0.8314 - val_loss: 2.0205\n",
      "Epoch 4/5\n",
      "242/242 [==============================] - 0s 1ms/step - loss: 0.7152 - val_loss: 1.4726\n",
      "Epoch 5/5\n",
      "242/242 [==============================] - 0s 1ms/step - loss: 0.6675 - val_loss: 1.1722\n",
      "121/121 [==============================] - 0s 570us/step - loss: 0.6436\n",
      "[CV]  learning_rate=0.0003920021771415983, n_hidden=3, n_neurons=24, total=   1.7s\n",
      "[CV] learning_rate=0.006010328378268217, n_hidden=0, n_neurons=2 .....\n",
      "Epoch 1/5\n",
      "242/242 [==============================] - 0s 986us/step - loss: 2.1735 - val_loss: 12.4126\n",
      "Epoch 2/5\n",
      "242/242 [==============================] - 0s 870us/step - loss: 0.6271 - val_loss: 11.0779\n",
      "Epoch 3/5\n",
      "242/242 [==============================] - 0s 893us/step - loss: 0.7687 - val_loss: 41.3525\n",
      "Epoch 4/5\n",
      "242/242 [==============================] - 0s 797us/step - loss: 0.7259 - val_loss: 57.0187\n",
      "Epoch 5/5\n",
      "242/242 [==============================] - 0s 826us/step - loss: 1.1762 - val_loss: 186.1878\n",
      "121/121 [==============================] - 0s 554us/step - loss: 1.2695\n",
      "[CV]  learning_rate=0.006010328378268217, n_hidden=0, n_neurons=2, total=   1.4s\n",
      "[CV] learning_rate=0.006010328378268217, n_hidden=0, n_neurons=2 .....\n",
      "Epoch 1/5\n",
      "  1/242 [..............................] - ETA: 0s - loss: 7.9910WARNING:tensorflow:Callbacks method `on_train_batch_begin` is slow compared to the batch time (batch time: 0.0000s vs `on_train_batch_begin` time: 0.0010s). Check your callbacks.\n",
      "242/242 [==============================] - 0s 1ms/step - loss: 1.7640 - val_loss: 1.3265\n",
      "Epoch 2/5\n",
      "242/242 [==============================] - 0s 873us/step - loss: 0.5652 - val_loss: 7.2354\n",
      "Epoch 3/5\n",
      "242/242 [==============================] - 0s 868us/step - loss: 0.5317 - val_loss: 13.5471\n",
      "Epoch 4/5\n",
      "242/242 [==============================] - 0s 812us/step - loss: 0.5188 - val_loss: 17.2940\n",
      "Epoch 5/5\n",
      "242/242 [==============================] - 0s 846us/step - loss: 0.5115 - val_loss: 19.4777\n",
      "121/121 [==============================] - 0s 512us/step - loss: 0.9723\n",
      "[CV]  learning_rate=0.006010328378268217, n_hidden=0, n_neurons=2, total=   1.5s\n",
      "[CV] learning_rate=0.006010328378268217, n_hidden=0, n_neurons=2 .....\n",
      "Epoch 1/5\n",
      "242/242 [==============================] - 0s 1ms/step - loss: 2.1782 - val_loss: 46.5472\n",
      "Epoch 2/5\n",
      "242/242 [==============================] - 0s 784us/step - loss: 0.8107 - val_loss: 47.1560\n",
      "Epoch 3/5\n",
      "242/242 [==============================] - 0s 780us/step - loss: 0.9974 - val_loss: 119.5556\n",
      "Epoch 4/5\n",
      "242/242 [==============================] - 0s 795us/step - loss: 2.3983 - val_loss: 197.7779\n",
      "Epoch 5/5\n",
      "242/242 [==============================] - 0s 819us/step - loss: 1.5654 - val_loss: 436.1991\n",
      "121/121 [==============================] - 0s 515us/step - loss: 1.4916\n",
      "[CV]  learning_rate=0.006010328378268217, n_hidden=0, n_neurons=2, total=   1.3s\n",
      "[CV] learning_rate=0.008339092654580042, n_hidden=1, n_neurons=38 ....\n",
      "Epoch 1/5\n",
      "242/242 [==============================] - 0s 1ms/step - loss: 1.0815 - val_loss: 98.2936\n",
      "Epoch 2/5\n",
      "242/242 [==============================] - 0s 890us/step - loss: 1.4889 - val_loss: 0.6122\n",
      "Epoch 3/5\n",
      "242/242 [==============================] - 0s 877us/step - loss: 0.5346 - val_loss: 0.4817\n",
      "Epoch 4/5\n",
      "242/242 [==============================] - 0s 856us/step - loss: 0.4571 - val_loss: 0.4300\n",
      "Epoch 5/5\n",
      "242/242 [==============================] - 0s 882us/step - loss: 0.4319 - val_loss: 0.4130\n",
      "121/121 [==============================] - 0s 554us/step - loss: 0.4464\n",
      "[CV]  learning_rate=0.008339092654580042, n_hidden=1, n_neurons=38, total=   1.4s\n",
      "[CV] learning_rate=0.008339092654580042, n_hidden=1, n_neurons=38 ....\n",
      "Epoch 1/5\n",
      "242/242 [==============================] - 0s 1ms/step - loss: 0.9029 - val_loss: 0.5003\n",
      "Epoch 2/5\n",
      "242/242 [==============================] - 0s 971us/step - loss: 0.4858 - val_loss: 0.7149\n",
      "Epoch 3/5\n",
      "242/242 [==============================] - 0s 901us/step - loss: 0.4331 - val_loss: 0.3965\n",
      "Epoch 4/5\n",
      "242/242 [==============================] - 0s 921us/step - loss: 0.4164 - val_loss: 0.4187\n",
      "Epoch 5/5\n",
      "242/242 [==============================] - 0s 901us/step - loss: 0.4032 - val_loss: 0.5471\n",
      "121/121 [==============================] - 0s 504us/step - loss: 0.4043\n",
      "[CV]  learning_rate=0.008339092654580042, n_hidden=1, n_neurons=38, total=   1.5s\n",
      "[CV] learning_rate=0.008339092654580042, n_hidden=1, n_neurons=38 ....\n",
      "Epoch 1/5\n",
      "242/242 [==============================] - ETA: 0s - loss: 0.963 - 0s 1ms/step - loss: 0.9441 - val_loss: 4.3179\n",
      "Epoch 2/5\n",
      "242/242 [==============================] - 0s 921us/step - loss: 0.5566 - val_loss: 24.0991\n",
      "Epoch 3/5\n",
      "242/242 [==============================] - 0s 909us/step - loss: 0.5721 - val_loss: 24.3540\n",
      "Epoch 4/5\n",
      "242/242 [==============================] - 0s 937us/step - loss: 0.7724 - val_loss: 0.4137\n",
      "Epoch 5/5\n",
      "242/242 [==============================] - 0s 866us/step - loss: 0.4318 - val_loss: 0.3917\n",
      "121/121 [==============================] - 0s 558us/step - loss: 0.4054\n",
      "[CV]  learning_rate=0.008339092654580042, n_hidden=1, n_neurons=38, total=   1.5s\n",
      "[CV] learning_rate=0.00030107783636342726, n_hidden=3, n_neurons=21 ..\n",
      "Epoch 1/5\n",
      "  1/242 [..............................] - ETA: 0s - loss: 6.7932WARNING:tensorflow:Callbacks method `on_train_batch_end` is slow compared to the batch time (batch time: 0.0000s vs `on_train_batch_end` time: 0.0010s). Check your callbacks.\n",
      "242/242 [==============================] - 0s 1ms/step - loss: 4.8426 - val_loss: 3.3783\n",
      "Epoch 2/5\n",
      "242/242 [==============================] - 0s 1ms/step - loss: 2.3645 - val_loss: 3.1293\n",
      "Epoch 3/5\n",
      "242/242 [==============================] - 0s 1ms/step - loss: 1.3141 - val_loss: 3.4824\n",
      "Epoch 4/5\n",
      "242/242 [==============================] - 0s 990us/step - loss: 0.9946 - val_loss: 3.2038\n",
      "Epoch 5/5\n",
      "242/242 [==============================] - 0s 1ms/step - loss: 0.8809 - val_loss: 2.7007\n",
      "121/121 [==============================] - 0s 587us/step - loss: 0.8337\n",
      "[CV]  learning_rate=0.00030107783636342726, n_hidden=3, n_neurons=21, total=   1.6s\n",
      "[CV] learning_rate=0.00030107783636342726, n_hidden=3, n_neurons=21 ..\n",
      "Epoch 1/5\n",
      "242/242 [==============================] - 0s 1ms/step - loss: 4.2411 - val_loss: 5.5936\n",
      "Epoch 2/5\n",
      "242/242 [==============================] - 0s 1ms/step - loss: 2.3603 - val_loss: 9.3999\n",
      "Epoch 3/5\n",
      "242/242 [==============================] - 0s 950us/step - loss: 1.5384 - val_loss: 12.9465\n",
      "Epoch 4/5\n",
      "242/242 [==============================] - 0s 1ms/step - loss: 1.2526 - val_loss: 14.3360\n",
      "Epoch 5/5\n",
      "242/242 [==============================] - 0s 1ms/step - loss: 1.1084 - val_loss: 14.3298\n",
      "121/121 [==============================] - 0s 566us/step - loss: 1.3754\n",
      "[CV]  learning_rate=0.00030107783636342726, n_hidden=3, n_neurons=21, total=   1.7s\n",
      "[CV] learning_rate=0.00030107783636342726, n_hidden=3, n_neurons=21 ..\n",
      "Epoch 1/5\n",
      "242/242 [==============================] - 0s 1ms/step - loss: 4.3445 - val_loss: 3.0574\n",
      "Epoch 2/5\n",
      "242/242 [==============================] - 0s 984us/step - loss: 2.2535 - val_loss: 2.1454\n",
      "Epoch 3/5\n",
      "242/242 [==============================] - 0s 1ms/step - loss: 1.4690 - val_loss: 1.6329\n",
      "Epoch 4/5\n",
      "242/242 [==============================] - 0s 1ms/step - loss: 1.1562 - val_loss: 1.2503\n",
      "Epoch 5/5\n",
      "242/242 [==============================] - 0s 1ms/step - loss: 0.9812 - val_loss: 0.9954\n",
      "121/121 [==============================] - 0s 579us/step - loss: 0.9150\n",
      "[CV]  learning_rate=0.00030107783636342726, n_hidden=3, n_neurons=21, total=   1.6s\n",
      "[CV] learning_rate=0.005153286333701512, n_hidden=1, n_neurons=22 ....\n",
      "Epoch 1/5\n",
      "242/242 [==============================] - 0s 1ms/step - loss: 1.3673 - val_loss: 8.6226\n",
      "Epoch 2/5\n",
      "242/242 [==============================] - 0s 843us/step - loss: 0.7367 - val_loss: 17.5373\n",
      "Epoch 3/5\n",
      "242/242 [==============================] - 0s 829us/step - loss: 0.6747 - val_loss: 0.5008\n",
      "Epoch 4/5\n",
      "242/242 [==============================] - 0s 880us/step - loss: 0.4722 - val_loss: 0.4576\n",
      "Epoch 5/5\n",
      "242/242 [==============================] - 0s 826us/step - loss: 0.4523 - val_loss: 0.4284\n",
      "121/121 [==============================] - 0s 499us/step - loss: 0.4513\n",
      "[CV]  learning_rate=0.005153286333701512, n_hidden=1, n_neurons=22, total=   1.4s\n",
      "[CV] learning_rate=0.005153286333701512, n_hidden=1, n_neurons=22 ....\n",
      "Epoch 1/5\n",
      "242/242 [==============================] - 0s 1ms/step - loss: 1.1406 - val_loss: 4.0075\n",
      "Epoch 2/5\n",
      "242/242 [==============================] - 0s 845us/step - loss: 0.6161 - val_loss: 0.8009\n",
      "Epoch 3/5\n",
      "242/242 [==============================] - 0s 872us/step - loss: 0.5464 - val_loss: 2.3102\n",
      "Epoch 4/5\n",
      "242/242 [==============================] - 0s 846us/step - loss: 0.5035 - val_loss: 2.6207\n",
      "Epoch 5/5\n",
      "242/242 [==============================] - 0s 887us/step - loss: 0.4757 - val_loss: 2.2261\n",
      "121/121 [==============================] - 0s 511us/step - loss: 0.5167\n",
      "[CV]  learning_rate=0.005153286333701512, n_hidden=1, n_neurons=22, total=   1.4s\n",
      "[CV] learning_rate=0.005153286333701512, n_hidden=1, n_neurons=22 ....\n",
      "Epoch 1/5\n",
      "  1/242 [..............................] - ETA: 0s - loss: 11.0570WARNING:tensorflow:Callbacks method `on_train_batch_end` is slow compared to the batch time (batch time: 0.0000s vs `on_train_batch_end` time: 0.0010s). Check your callbacks.\n",
      "242/242 [==============================] - 0s 1ms/step - loss: 1.4912 - val_loss: 0.9323\n",
      "Epoch 2/5\n",
      "242/242 [==============================] - 0s 802us/step - loss: 0.7064 - val_loss: 5.1447\n",
      "Epoch 3/5\n",
      "242/242 [==============================] - 0s 818us/step - loss: 0.6214 - val_loss: 4.5792\n",
      "Epoch 4/5\n",
      "242/242 [==============================] - 0s 827us/step - loss: 0.7480 - val_loss: 13.2639\n",
      "Epoch 5/5\n",
      "242/242 [==============================] - 0s 867us/step - loss: 0.5827 - val_loss: 22.8332\n",
      "121/121 [==============================] - 0s 521us/step - loss: 0.6133\n",
      "[CV]  learning_rate=0.005153286333701512, n_hidden=1, n_neurons=22, total=   1.4s\n",
      "[CV] learning_rate=0.0003099230412972121, n_hidden=0, n_neurons=49 ...\n",
      "Epoch 1/5\n",
      "  1/242 [..............................] - ETA: 0s - loss: 7.4013WARNING:tensorflow:Callbacks method `on_train_batch_end` is slow compared to the batch time (batch time: 0.0000s vs `on_train_batch_end` time: 0.0010s). Check your callbacks.\n",
      "183/242 [=====================>........] - ETA: 0s - loss: 6.2384WARNING:tensorflow:Callbacks method `on_test_batch_begin` is slow compared to the batch time (batch time: 0.0000s vs `on_test_batch_begin` time: 0.0010s). Check your callbacks.\n",
      "242/242 [==============================] - 0s 1ms/step - loss: 5.9980 - val_loss: 7.7049\n",
      "Epoch 2/5\n",
      "242/242 [==============================] - 0s 814us/step - loss: 4.4387 - val_loss: 4.9923\n",
      "Epoch 3/5\n",
      "242/242 [==============================] - 0s 831us/step - loss: 3.3654 - val_loss: 3.3668\n",
      "Epoch 4/5\n",
      "242/242 [==============================] - 0s 805us/step - loss: 2.6161 - val_loss: 2.3962\n",
      "Epoch 5/5\n",
      "242/242 [==============================] - 0s 835us/step - loss: 2.0853 - val_loss: 1.8145\n",
      "121/121 [==============================] - 0s 512us/step - loss: 1.9364\n",
      "[CV]  learning_rate=0.0003099230412972121, n_hidden=0, n_neurons=49, total=   1.3s\n",
      "[CV] learning_rate=0.0003099230412972121, n_hidden=0, n_neurons=49 ...\n",
      "Epoch 1/5\n",
      "  1/242 [..............................] - ETA: 0s - loss: 10.0969WARNING:tensorflow:Callbacks method `on_train_batch_begin` is slow compared to the batch time (batch time: 0.0000s vs `on_train_batch_begin` time: 0.0010s). Check your callbacks.\n",
      "242/242 [==============================] - 0s 1ms/step - loss: 7.2542 - val_loss: 26.0366\n",
      "Epoch 2/5\n",
      "242/242 [==============================] - 0s 765us/step - loss: 5.5184 - val_loss: 25.2461\n",
      "Epoch 3/5\n",
      "242/242 [==============================] - 0s 825us/step - loss: 4.2400 - val_loss: 24.7417\n",
      "Epoch 4/5\n",
      "242/242 [==============================] - 0s 761us/step - loss: 3.2987 - val_loss: 24.4245\n",
      "Epoch 5/5\n",
      "242/242 [==============================] - 0s 763us/step - loss: 2.6046 - val_loss: 24.2340\n",
      "121/121 [==============================] - 0s 554us/step - loss: 2.8046\n",
      "[CV]  learning_rate=0.0003099230412972121, n_hidden=0, n_neurons=49, total=   1.3s\n",
      "[CV] learning_rate=0.0003099230412972121, n_hidden=0, n_neurons=49 ...\n",
      "Epoch 1/5\n",
      "242/242 [==============================] - 0s 2ms/step - loss: 9.1626 - val_loss: 45.6648\n",
      "Epoch 2/5\n",
      "242/242 [==============================] - 0s 787us/step - loss: 6.4483 - val_loss: 28.5242\n",
      "Epoch 3/5\n",
      "242/242 [==============================] - 0s 765us/step - loss: 4.6477 - val_loss: 17.7673\n",
      "Epoch 4/5\n",
      "242/242 [==============================] - 0s 818us/step - loss: 3.4360 - val_loss: 11.0051\n",
      "Epoch 5/5\n",
      "242/242 [==============================] - 0s 759us/step - loss: 2.6060 - val_loss: 6.8789\n",
      "  1/121 [..............................] - ETA: 0s - loss: 2.1430WARNING:tensorflow:Callbacks method `on_test_batch_end` is slow compared to the batch time (batch time: 0.0000s vs `on_test_batch_end` time: 0.0010s). Check your callbacks.\n",
      "121/121 [==============================] - 0s 534us/step - loss: 2.2056\n",
      "[CV]  learning_rate=0.0003099230412972121, n_hidden=0, n_neurons=49, total=   1.4s\n",
      "[CV] learning_rate=0.0033625641252688094, n_hidden=2, n_neurons=42 ...\n",
      "Epoch 1/5\n",
      "225/242 [==========================>...] - ETA: 0s - loss: 1.3723WARNING:tensorflow:Callbacks method `on_test_batch_end` is slow compared to the batch time (batch time: 0.0000s vs `on_test_batch_end` time: 0.0010s). Check your callbacks.\n",
      "242/242 [==============================] - 0s 1ms/step - loss: 1.3233 - val_loss: 5.0927\n",
      "Epoch 2/5\n",
      "242/242 [==============================] - 0s 979us/step - loss: 0.6684 - val_loss: 1.5227\n",
      "Epoch 3/5\n",
      "242/242 [==============================] - 0s 1ms/step - loss: 0.5371 - val_loss: 0.4816\n",
      "Epoch 4/5\n",
      "242/242 [==============================] - 0s 1ms/step - loss: 0.4784 - val_loss: 0.4336\n",
      "Epoch 5/5\n",
      "242/242 [==============================] - 0s 1ms/step - loss: 0.4446 - val_loss: 0.4094\n",
      "121/121 [==============================] - 0s 578us/step - loss: 0.4415\n",
      "[CV]  learning_rate=0.0033625641252688094, n_hidden=2, n_neurons=42, total=   1.6s\n",
      "[CV] learning_rate=0.0033625641252688094, n_hidden=2, n_neurons=42 ...\n",
      "Epoch 1/5\n",
      "242/242 [==============================] - 0s 1ms/step - loss: 1.2190 - val_loss: 2.2489\n",
      "Epoch 2/5\n",
      "242/242 [==============================] - 0s 975us/step - loss: 0.5558 - val_loss: 0.6237\n",
      "Epoch 3/5\n",
      "242/242 [==============================] - 0s 979us/step - loss: 0.4838 - val_loss: 0.4450\n",
      "Epoch 4/5\n",
      "242/242 [==============================] - 0s 1ms/step - loss: 0.4469 - val_loss: 0.4209\n",
      "Epoch 5/5\n",
      "242/242 [==============================] - 0s 1ms/step - loss: 0.4240 - val_loss: 0.3995\n",
      "121/121 [==============================] - 0s 554us/step - loss: 0.4216\n",
      "[CV]  learning_rate=0.0033625641252688094, n_hidden=2, n_neurons=42, total=   1.6s\n",
      "[CV] learning_rate=0.0033625641252688094, n_hidden=2, n_neurons=42 ...\n",
      "Epoch 1/5\n",
      "242/242 [==============================] - 0s 1ms/step - loss: 1.3264 - val_loss: 16.5965\n",
      "Epoch 2/5\n",
      "242/242 [==============================] - 0s 1ms/step - loss: 0.7429 - val_loss: 6.9043\n",
      "Epoch 3/5\n",
      "242/242 [==============================] - 0s 995us/step - loss: 0.5737 - val_loss: 0.4737\n",
      "Epoch 4/5\n",
      "242/242 [==============================] - 0s 1ms/step - loss: 0.4699 - val_loss: 0.4417\n",
      "Epoch 5/5\n",
      "242/242 [==============================] - 0s 983us/step - loss: 0.4460 - val_loss: 0.4214\n",
      "121/121 [==============================] - 0s 552us/step - loss: 0.4361\n",
      "[CV]  learning_rate=0.0033625641252688094, n_hidden=2, n_neurons=42, total=   1.6s\n"
     ]
    },
    {
     "name": "stderr",
     "output_type": "stream",
     "text": [
      "[Parallel(n_jobs=1)]: Done  30 out of  30 | elapsed:   44.9s finished\n"
     ]
    },
    {
     "ename": "RuntimeError",
     "evalue": "Cannot clone object <tensorflow.python.keras.wrappers.scikit_learn.KerasRegressor object at 0x0000022BE57FEE10>, as the constructor either does not set or modifies parameter learning_rate",
     "output_type": "error",
     "traceback": [
      "\u001b[1;31m---------------------------------------------------------------------------\u001b[0m",
      "\u001b[1;31mRuntimeError\u001b[0m                              Traceback (most recent call last)",
      "\u001b[1;32m<ipython-input-10-7ed1476b672b>\u001b[0m in \u001b[0;36m<module>\u001b[1;34m\u001b[0m\n\u001b[0;32m     11\u001b[0m rnd_search_cv.fit(X_train, y_train, epochs=5,\n\u001b[0;32m     12\u001b[0m                   \u001b[0mvalidation_data\u001b[0m\u001b[1;33m=\u001b[0m\u001b[1;33m(\u001b[0m\u001b[0mX_valid\u001b[0m\u001b[1;33m,\u001b[0m \u001b[0my_valid\u001b[0m\u001b[1;33m)\u001b[0m\u001b[1;33m,\u001b[0m\u001b[1;33m\u001b[0m\u001b[1;33m\u001b[0m\u001b[0m\n\u001b[1;32m---> 13\u001b[1;33m                   callbacks=[keras.callbacks.EarlyStopping(patience=10)])\n\u001b[0m",
      "\u001b[1;32mC:\\Anaconda\\envs\\studio\\lib\\site-packages\\sklearn\\utils\\validation.py\u001b[0m in \u001b[0;36minner_f\u001b[1;34m(*args, **kwargs)\u001b[0m\n\u001b[0;32m     71\u001b[0m                           FutureWarning)\n\u001b[0;32m     72\u001b[0m         \u001b[0mkwargs\u001b[0m\u001b[1;33m.\u001b[0m\u001b[0mupdate\u001b[0m\u001b[1;33m(\u001b[0m\u001b[1;33m{\u001b[0m\u001b[0mk\u001b[0m\u001b[1;33m:\u001b[0m \u001b[0marg\u001b[0m \u001b[1;32mfor\u001b[0m \u001b[0mk\u001b[0m\u001b[1;33m,\u001b[0m \u001b[0marg\u001b[0m \u001b[1;32min\u001b[0m \u001b[0mzip\u001b[0m\u001b[1;33m(\u001b[0m\u001b[0msig\u001b[0m\u001b[1;33m.\u001b[0m\u001b[0mparameters\u001b[0m\u001b[1;33m,\u001b[0m \u001b[0margs\u001b[0m\u001b[1;33m)\u001b[0m\u001b[1;33m}\u001b[0m\u001b[1;33m)\u001b[0m\u001b[1;33m\u001b[0m\u001b[1;33m\u001b[0m\u001b[0m\n\u001b[1;32m---> 73\u001b[1;33m         \u001b[1;32mreturn\u001b[0m \u001b[0mf\u001b[0m\u001b[1;33m(\u001b[0m\u001b[1;33m**\u001b[0m\u001b[0mkwargs\u001b[0m\u001b[1;33m)\u001b[0m\u001b[1;33m\u001b[0m\u001b[1;33m\u001b[0m\u001b[0m\n\u001b[0m\u001b[0;32m     74\u001b[0m     \u001b[1;32mreturn\u001b[0m \u001b[0minner_f\u001b[0m\u001b[1;33m\u001b[0m\u001b[1;33m\u001b[0m\u001b[0m\n\u001b[0;32m     75\u001b[0m \u001b[1;33m\u001b[0m\u001b[0m\n",
      "\u001b[1;32mC:\\Anaconda\\envs\\studio\\lib\\site-packages\\sklearn\\model_selection\\_search.py\u001b[0m in \u001b[0;36mfit\u001b[1;34m(self, X, y, groups, **fit_params)\u001b[0m\n\u001b[0;32m    760\u001b[0m             \u001b[1;31m# of the params are estimators as well.\u001b[0m\u001b[1;33m\u001b[0m\u001b[1;33m\u001b[0m\u001b[1;33m\u001b[0m\u001b[0m\n\u001b[0;32m    761\u001b[0m             self.best_estimator_ = clone(clone(base_estimator).set_params(\n\u001b[1;32m--> 762\u001b[1;33m                 **self.best_params_))\n\u001b[0m\u001b[0;32m    763\u001b[0m             \u001b[0mrefit_start_time\u001b[0m \u001b[1;33m=\u001b[0m \u001b[0mtime\u001b[0m\u001b[1;33m.\u001b[0m\u001b[0mtime\u001b[0m\u001b[1;33m(\u001b[0m\u001b[1;33m)\u001b[0m\u001b[1;33m\u001b[0m\u001b[1;33m\u001b[0m\u001b[0m\n\u001b[0;32m    764\u001b[0m             \u001b[1;32mif\u001b[0m \u001b[0my\u001b[0m \u001b[1;32mis\u001b[0m \u001b[1;32mnot\u001b[0m \u001b[1;32mNone\u001b[0m\u001b[1;33m:\u001b[0m\u001b[1;33m\u001b[0m\u001b[1;33m\u001b[0m\u001b[0m\n",
      "\u001b[1;32mC:\\Anaconda\\envs\\studio\\lib\\site-packages\\sklearn\\utils\\validation.py\u001b[0m in \u001b[0;36minner_f\u001b[1;34m(*args, **kwargs)\u001b[0m\n\u001b[0;32m     71\u001b[0m                           FutureWarning)\n\u001b[0;32m     72\u001b[0m         \u001b[0mkwargs\u001b[0m\u001b[1;33m.\u001b[0m\u001b[0mupdate\u001b[0m\u001b[1;33m(\u001b[0m\u001b[1;33m{\u001b[0m\u001b[0mk\u001b[0m\u001b[1;33m:\u001b[0m \u001b[0marg\u001b[0m \u001b[1;32mfor\u001b[0m \u001b[0mk\u001b[0m\u001b[1;33m,\u001b[0m \u001b[0marg\u001b[0m \u001b[1;32min\u001b[0m \u001b[0mzip\u001b[0m\u001b[1;33m(\u001b[0m\u001b[0msig\u001b[0m\u001b[1;33m.\u001b[0m\u001b[0mparameters\u001b[0m\u001b[1;33m,\u001b[0m \u001b[0margs\u001b[0m\u001b[1;33m)\u001b[0m\u001b[1;33m}\u001b[0m\u001b[1;33m)\u001b[0m\u001b[1;33m\u001b[0m\u001b[1;33m\u001b[0m\u001b[0m\n\u001b[1;32m---> 73\u001b[1;33m         \u001b[1;32mreturn\u001b[0m \u001b[0mf\u001b[0m\u001b[1;33m(\u001b[0m\u001b[1;33m**\u001b[0m\u001b[0mkwargs\u001b[0m\u001b[1;33m)\u001b[0m\u001b[1;33m\u001b[0m\u001b[1;33m\u001b[0m\u001b[0m\n\u001b[0m\u001b[0;32m     74\u001b[0m     \u001b[1;32mreturn\u001b[0m \u001b[0minner_f\u001b[0m\u001b[1;33m\u001b[0m\u001b[1;33m\u001b[0m\u001b[0m\n\u001b[0;32m     75\u001b[0m \u001b[1;33m\u001b[0m\u001b[0m\n",
      "\u001b[1;32mC:\\Anaconda\\envs\\studio\\lib\\site-packages\\sklearn\\base.py\u001b[0m in \u001b[0;36mclone\u001b[1;34m(estimator, safe)\u001b[0m\n\u001b[0;32m     96\u001b[0m             raise RuntimeError('Cannot clone object %s, as the constructor '\n\u001b[0;32m     97\u001b[0m                                \u001b[1;34m'either does not set or modifies parameter %s'\u001b[0m \u001b[1;33m%\u001b[0m\u001b[1;33m\u001b[0m\u001b[1;33m\u001b[0m\u001b[0m\n\u001b[1;32m---> 98\u001b[1;33m                                (estimator, name))\n\u001b[0m\u001b[0;32m     99\u001b[0m     \u001b[1;32mreturn\u001b[0m \u001b[0mnew_object\u001b[0m\u001b[1;33m\u001b[0m\u001b[1;33m\u001b[0m\u001b[0m\n\u001b[0;32m    100\u001b[0m \u001b[1;33m\u001b[0m\u001b[0m\n",
      "\u001b[1;31mRuntimeError\u001b[0m: Cannot clone object <tensorflow.python.keras.wrappers.scikit_learn.KerasRegressor object at 0x0000022BE57FEE10>, as the constructor either does not set or modifies parameter learning_rate"
     ]
    }
   ],
   "source": [
    "from scipy.stats import reciprocal\n",
    "from sklearn.model_selection import RandomizedSearchCV\n",
    "\n",
    "param_distribs = {\n",
    "    \"n_hidden\": [0, 1, 2, 3],\n",
    "    \"n_neurons\": np.arange(1, 100),\n",
    "    \"learning_rate\": reciprocal(3e-4, 3e-2),\n",
    "}\n",
    "\n",
    "rnd_search_cv = RandomizedSearchCV(keras_reg, param_distribs, n_iter=10, cv=3, verbose=2)\n",
    "rnd_search_cv.fit(X_train, y_train, epochs=5,\n",
    "                  validation_data=(X_valid, y_valid),\n",
    "                  callbacks=[keras.callbacks.EarlyStopping(patience=10)])"
   ]
  },
  {
   "cell_type": "code",
   "execution_count": 11,
   "metadata": {},
   "outputs": [
    {
     "data": {
      "text/plain": [
       "{'learning_rate': 0.008339092654580042, 'n_hidden': 1, 'n_neurons': 38}"
      ]
     },
     "execution_count": 11,
     "metadata": {},
     "output_type": "execute_result"
    }
   ],
   "source": [
    "rnd_search_cv.best_params_"
   ]
  },
  {
   "cell_type": "code",
   "execution_count": 12,
   "metadata": {},
   "outputs": [
    {
     "data": {
      "text/plain": [
       "-0.4187048574288686"
      ]
     },
     "execution_count": 12,
     "metadata": {},
     "output_type": "execute_result"
    }
   ],
   "source": [
    "rnd_search_cv.best_score_"
   ]
  },
  {
   "cell_type": "code",
   "execution_count": 13,
   "metadata": {},
   "outputs": [
    {
     "ename": "AttributeError",
     "evalue": "'RandomizedSearchCV' object has no attribute 'best_estimator_'",
     "output_type": "error",
     "traceback": [
      "\u001b[1;31m---------------------------------------------------------------------------\u001b[0m",
      "\u001b[1;31mAttributeError\u001b[0m                            Traceback (most recent call last)",
      "\u001b[1;32m<ipython-input-13-3b40e07bb81d>\u001b[0m in \u001b[0;36m<module>\u001b[1;34m\u001b[0m\n\u001b[1;32m----> 1\u001b[1;33m \u001b[0mrnd_search_cv\u001b[0m\u001b[1;33m.\u001b[0m\u001b[0mbest_estimator_\u001b[0m\u001b[1;33m\u001b[0m\u001b[1;33m\u001b[0m\u001b[0m\n\u001b[0m",
      "\u001b[1;31mAttributeError\u001b[0m: 'RandomizedSearchCV' object has no attribute 'best_estimator_'"
     ]
    }
   ],
   "source": [
    "rnd_search_cv.best_estimator_"
   ]
  },
  {
   "cell_type": "code",
   "execution_count": 14,
   "metadata": {},
   "outputs": [
    {
     "ename": "AttributeError",
     "evalue": "'RandomizedSearchCV' object has no attribute 'scorer_'",
     "output_type": "error",
     "traceback": [
      "\u001b[1;31m---------------------------------------------------------------------------\u001b[0m",
      "\u001b[1;31mAttributeError\u001b[0m                            Traceback (most recent call last)",
      "\u001b[1;32m<ipython-input-14-cbbd136c11f2>\u001b[0m in \u001b[0;36m<module>\u001b[1;34m\u001b[0m\n\u001b[1;32m----> 1\u001b[1;33m \u001b[0mrnd_search_cv\u001b[0m\u001b[1;33m.\u001b[0m\u001b[0mscore\u001b[0m\u001b[1;33m(\u001b[0m\u001b[0mX_test\u001b[0m\u001b[1;33m,\u001b[0m \u001b[0my_test\u001b[0m\u001b[1;33m)\u001b[0m\u001b[1;33m\u001b[0m\u001b[1;33m\u001b[0m\u001b[0m\n\u001b[0m",
      "\u001b[1;32mC:\\Anaconda\\envs\\studio\\lib\\site-packages\\sklearn\\model_selection\\_search.py\u001b[0m in \u001b[0;36mscore\u001b[1;34m(self, X, y)\u001b[0m\n\u001b[0;32m    451\u001b[0m         \"\"\"\n\u001b[0;32m    452\u001b[0m         \u001b[0mself\u001b[0m\u001b[1;33m.\u001b[0m\u001b[0m_check_is_fitted\u001b[0m\u001b[1;33m(\u001b[0m\u001b[1;34m'score'\u001b[0m\u001b[1;33m)\u001b[0m\u001b[1;33m\u001b[0m\u001b[1;33m\u001b[0m\u001b[0m\n\u001b[1;32m--> 453\u001b[1;33m         \u001b[1;32mif\u001b[0m \u001b[0mself\u001b[0m\u001b[1;33m.\u001b[0m\u001b[0mscorer_\u001b[0m \u001b[1;32mis\u001b[0m \u001b[1;32mNone\u001b[0m\u001b[1;33m:\u001b[0m\u001b[1;33m\u001b[0m\u001b[1;33m\u001b[0m\u001b[0m\n\u001b[0m\u001b[0;32m    454\u001b[0m             raise ValueError(\"No score function explicitly defined, \"\n\u001b[0;32m    455\u001b[0m                              \u001b[1;34m\"and the estimator doesn't provide one %s\"\u001b[0m\u001b[1;33m\u001b[0m\u001b[1;33m\u001b[0m\u001b[0m\n",
      "\u001b[1;31mAttributeError\u001b[0m: 'RandomizedSearchCV' object has no attribute 'scorer_'"
     ]
    }
   ],
   "source": [
    "rnd_search_cv.score(X_test, y_test)"
   ]
  },
  {
   "cell_type": "code",
   "execution_count": 15,
   "metadata": {},
   "outputs": [
    {
     "ename": "AttributeError",
     "evalue": "'RandomizedSearchCV' object has no attribute 'best_estimator_'",
     "output_type": "error",
     "traceback": [
      "\u001b[1;31m---------------------------------------------------------------------------\u001b[0m",
      "\u001b[1;31mAttributeError\u001b[0m                            Traceback (most recent call last)",
      "\u001b[1;32m<ipython-input-15-f89828bd4b63>\u001b[0m in \u001b[0;36m<module>\u001b[1;34m\u001b[0m\n\u001b[1;32m----> 1\u001b[1;33m \u001b[0mmodel\u001b[0m \u001b[1;33m=\u001b[0m \u001b[0mrnd_search_cv\u001b[0m\u001b[1;33m.\u001b[0m\u001b[0mbest_estimator_\u001b[0m\u001b[1;33m.\u001b[0m\u001b[0mmodel\u001b[0m\u001b[1;33m\u001b[0m\u001b[1;33m\u001b[0m\u001b[0m\n\u001b[0m\u001b[0;32m      2\u001b[0m \u001b[0mmodel\u001b[0m\u001b[1;33m\u001b[0m\u001b[1;33m\u001b[0m\u001b[0m\n",
      "\u001b[1;31mAttributeError\u001b[0m: 'RandomizedSearchCV' object has no attribute 'best_estimator_'"
     ]
    }
   ],
   "source": [
    "model = rnd_search_cv.best_estimator_.model\n",
    "model"
   ]
  },
  {
   "cell_type": "code",
   "execution_count": 16,
   "metadata": {},
   "outputs": [
    {
     "ename": "NameError",
     "evalue": "name 'model' is not defined",
     "output_type": "error",
     "traceback": [
      "\u001b[1;31m---------------------------------------------------------------------------\u001b[0m",
      "\u001b[1;31mNameError\u001b[0m                                 Traceback (most recent call last)",
      "\u001b[1;32m<ipython-input-16-acc519fcce62>\u001b[0m in \u001b[0;36m<module>\u001b[1;34m\u001b[0m\n\u001b[1;32m----> 1\u001b[1;33m \u001b[0mmodel\u001b[0m\u001b[1;33m.\u001b[0m\u001b[0mevaluate\u001b[0m\u001b[1;33m(\u001b[0m\u001b[0mX_test\u001b[0m\u001b[1;33m,\u001b[0m \u001b[0my_test\u001b[0m\u001b[1;33m)\u001b[0m\u001b[1;33m\u001b[0m\u001b[1;33m\u001b[0m\u001b[0m\n\u001b[0m",
      "\u001b[1;31mNameError\u001b[0m: name 'model' is not defined"
     ]
    }
   ],
   "source": [
    "model.evaluate(X_test, y_test)"
   ]
  },
  {
   "cell_type": "code",
   "execution_count": null,
   "metadata": {},
   "outputs": [],
   "source": []
  },
  {
   "cell_type": "code",
   "execution_count": null,
   "metadata": {},
   "outputs": [],
   "source": []
  }
 ],
 "metadata": {
  "kernelspec": {
   "display_name": "Python [conda env:studio]",
   "language": "python",
   "name": "conda-env-studio-py"
  },
  "language_info": {
   "codemirror_mode": {
    "name": "ipython",
    "version": 3
   },
   "file_extension": ".py",
   "mimetype": "text/x-python",
   "name": "python",
   "nbconvert_exporter": "python",
   "pygments_lexer": "ipython3",
   "version": "3.6.10"
  }
 },
 "nbformat": 4,
 "nbformat_minor": 4
}
